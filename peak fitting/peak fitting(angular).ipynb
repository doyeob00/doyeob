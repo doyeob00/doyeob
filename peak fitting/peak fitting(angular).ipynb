{
 "cells": [
  {
   "cell_type": "code",
   "execution_count": 2,
   "id": "06a302d2-f151-4df9-976c-32cbeb4097b6",
   "metadata": {},
   "outputs": [],
   "source": [
    "import os\n",
    "import numpy as np\n",
    "import tifffile as tiff\n",
    "\n",
    "def process_tif_files(input_folder, output_folder):\n",
    "    # Get a list of all tif files in the input folder\n",
    "    tif_files = [f for f in os.listdir(input_folder) if f.endswith('.tif')]\n",
    "\n",
    "    for tif_file in tif_files:\n",
    "        # Read the tif file\n",
    "        img = tiff.imread(os.path.join(input_folder, tif_file))\n",
    "        \n",
    "        # Calculate the average intensity for y = 200:203\n",
    "        avg_intensity = np.mean(img[:, 127:132], axis=1)\n",
    "        \n",
    "        # Create the final output array of size 10x1024\n",
    "        output_data = np.tile(avg_intensity[:, np.newaxis], (1, 10))\n",
    "        \n",
    "        # Define the output file path\n",
    "        output_file = os.path.join(output_folder, f'output_{tif_file}')\n",
    "        \n",
    "        # Save the output data as a tif file\n",
    "        tiff.imwrite(output_file, output_data.astype(np.float32))\n",
    "\n",
    "# Example usage\n",
    "input_folder = r\"D:\\Users\\doyeob\\Desktop\\3layerBP data\\devided data\\polar\\polar data\"\n",
    "output_folder = r\"D:\\Users\\doyeob\\Desktop\\3layerBP data\\devided data\\polar\\polar data\\peak data\\101 peak data\\angular\\weak\"\n",
    "os.makedirs(output_folder, exist_ok=True)\n",
    "process_tif_files(input_folder, output_folder)\n"
   ]
  },
  {
   "cell_type": "code",
   "execution_count": null,
   "id": "12608556-2f98-4771-b5bc-fc5824ddfded",
   "metadata": {},
   "outputs": [],
   "source": []
  }
 ],
 "metadata": {
  "kernelspec": {
   "display_name": "Python 3 (ipykernel)",
   "language": "python",
   "name": "python3"
  },
  "language_info": {
   "codemirror_mode": {
    "name": "ipython",
    "version": 3
   },
   "file_extension": ".py",
   "mimetype": "text/x-python",
   "name": "python",
   "nbconvert_exporter": "python",
   "pygments_lexer": "ipython3",
   "version": "3.9.19"
  }
 },
 "nbformat": 4,
 "nbformat_minor": 5
}
