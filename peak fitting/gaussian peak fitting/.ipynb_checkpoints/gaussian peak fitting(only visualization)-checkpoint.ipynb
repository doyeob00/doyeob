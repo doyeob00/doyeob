{
 "cells": [
  {
   "cell_type": "code",
   "execution_count": 10,
   "id": "af43f705-8416-49ec-ad5c-09a126cacd5a",
   "metadata": {},
   "outputs": [
    {
     "ename": "SyntaxError",
     "evalue": "invalid syntax (692553772.py, line 35)",
     "output_type": "error",
     "traceback": [
      "\u001b[1;36m  Cell \u001b[1;32mIn[10], line 35\u001b[1;36m\u001b[0m\n\u001b[1;33m    max(y_data) * 0.5, 4.0, 0.1   # 네 번째 피크 (4 근처)\u001b[0m\n\u001b[1;37m    ^\u001b[0m\n\u001b[1;31mSyntaxError\u001b[0m\u001b[1;31m:\u001b[0m invalid syntax\n"
     ]
    }
   ],
   "source": [
    "import numpy as np\n",
    "import pandas as pd\n",
    "import matplotlib.pyplot as plt\n",
    "from scipy.optimize import curve_fit\n",
    "\n",
    "# 가우시안 함수 정의\n",
    "def gaussian(x, a, b, c):\n",
    "    return a * np.exp(-((x - b) ** 2) / (2 * c ** 2))\n",
    "\n",
    "# 4개의 가우시안 피크를 합친 함수 정의\n",
    "def four_gaussians(x, a1, b1, c1, a2, b2, c2, a3, b3, c3, a4, b4, c4):\n",
    "    return (gaussian(x, a1, b1, c1) +\n",
    "            gaussian(x, a2, b2, c2) +\n",
    "            gaussian(x, a3, b3, c3) +\n",
    "            gaussian(x, a4, b4, c4))\n",
    "\n",
    "# 엑셀 파일에서 데이터 읽기\n",
    "file_path = r'D:\\Users\\doyeob\\Desktop\\301th data.xlsx'\n",
    "df = pd.read_excel(file_path)\n",
    "\n",
    "# A열의 x 값과 B열의 f(x) 값 추출\n",
    "x_data = df.iloc[:, 0].values\n",
    "y_data = df.iloc[:, 1].values\n",
    "\n",
    "# NaN 및 무한대 값 제거\n",
    "mask = ~np.isnan(x_data) & ~np.isnan(y_data) & ~np.isinf(x_data) & ~np.isinf(y_data)\n",
    "x_data = x_data[mask]\n",
    "y_data = y_data[mask]\n",
    "\n",
    "# 초기 피크 추정치 설정\n",
    "initial_guesses = [\n",
    "    max(y_data) * 0.5, 1.0, 0.1,  # 첫 번째 피크 (1 근처)\n",
    "    max(y_data) * 0.5, 2.0, 0.1,  # 두 번째 피크 (2 근처)\n",
    "    max(y_data) * 0.5, 3.0, 0.1  # 세 번째 피크 (3 근처)\n",
    "    max(y_data) * 0.5, 4.0, 0.1   # 네 번째 피크 (4 근처)\n",
    "]\n",
    "\n",
    "# 최적화 함수로 데이터 피팅\n",
    "params, _ = curve_fit(four_gaussians, x_data, y_data, p0=initial_guesses)\n",
    "\n",
    "# 피팅된 파라미터\n",
    "a1, b1, c1, a2, b2, c2, a3, b3, c3, a4, b4, c4 = params\n",
    "\n",
    "# 각 피크 개별 가우시안 계산\n",
    "peak1 = gaussian(x_data, a1, b1, c1)\n",
    "peak2 = gaussian(x_data, a2, b2, c2)\n",
    "peak3 = gaussian(x_data, a3, b3, c3)\n",
    "peak4 = gaussian(x_data, a4, b4, c4)\n",
    "\n",
    "# 전체 피팅 결과\n",
    "fitted_y_data = four_gaussians(x_data, *params)\n",
    "\n",
    "# 결과 시각화\n",
    "plt.plot(x_data, y_data, label='Original Data')\n",
    "plt.plot(x_data, fitted_y_data, label='Fitted Data', linestyle='--')\n",
    "plt.plot(x_data, peak1, label='Peak 1')\n",
    "plt.plot(x_data, peak2, label='Peak 2')\n",
    "plt.plot(x_data, peak3, label='Peak 3')\n",
    "plt.plot(x_data, peak4, label='Peak 4')\n",
    "plt.legend()\n",
    "plt.xlabel('x')\n",
    "plt.ylabel('f(x)')\n",
    "plt.title('Gaussian Peaks Fitting')\n",
    "plt.show()\n",
    "\n",
    "# 피팅된 파라미터 출력\n",
    "print('Fitted Parameters:')\n",
    "print(params)\n",
    "\n",
    "# 데이터를 엑셀 파일로 저장\n",
    "output_file_path = r'D:\\Users\\doyeob\\Desktop\\301th fitted_peaks.xlsx'\n",
    "with pd.ExcelWriter(output_file_path) as writer:\n",
    "    pd.DataFrame({'x': x_data, 'Original Data': y_data}).to_excel(writer, sheet_name='Original Data', index=False)\n",
    "    pd.DataFrame({'x': x_data, 'Fitted Data': fitted_y_data}).to_excel(writer, sheet_name='Fitted Data', index=False)\n",
    "    pd.DataFrame({'x': x_data, 'Peak 1': peak1}).to_excel(writer, sheet_name='Peak 1', index=False)\n",
    "    pd.DataFrame({'x': x_data, 'Peak 2': peak2}).to_excel(writer, sheet_name='Peak 2', index=False)\n",
    "    pd.DataFrame({'x': x_data, 'Peak 3': peak3}).to_excel(writer, sheet_name='Peak 3', index=False)\n",
    "    pd.DataFrame({'x': x_data, 'Peak 4': peak4}).to_excel(writer, sheet_name='Peak 4', index=False)\n",
    "\n",
    "print('Fitting 완료.')\n"
   ]
  },
  {
   "cell_type": "code",
   "execution_count": null,
   "id": "aac0e426-fbff-4e53-8766-6f82fc62658a",
   "metadata": {},
   "outputs": [],
   "source": []
  },
  {
   "cell_type": "code",
   "execution_count": null,
   "id": "6a162cfc-b161-4557-b24c-5e96382d91b0",
   "metadata": {},
   "outputs": [],
   "source": []
  }
 ],
 "metadata": {
  "kernelspec": {
   "display_name": "Python 3 (ipykernel)",
   "language": "python",
   "name": "python3"
  },
  "language_info": {
   "codemirror_mode": {
    "name": "ipython",
    "version": 3
   },
   "file_extension": ".py",
   "mimetype": "text/x-python",
   "name": "python",
   "nbconvert_exporter": "python",
   "pygments_lexer": "ipython3",
   "version": "3.9.19"
  }
 },
 "nbformat": 4,
 "nbformat_minor": 5
}
