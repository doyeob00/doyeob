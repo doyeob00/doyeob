{
 "cells": [
  {
   "cell_type": "code",
   "execution_count": 5,
   "id": "6b6402fb-5929-4553-9c0a-bea4201aadb6",
   "metadata": {},
   "outputs": [],
   "source": [
    "import os\n",
    "import numpy as np\n",
    "import tifffile as tiff\n",
    "\n",
    "def process_tif_files(input_folder, output_folder):\n",
    "    # 입력 폴더의 모든 tif 파일 목록 가져오기\n",
    "    tif_files = [f for f in os.listdir(input_folder) if f.endswith('.tif')]\n",
    "\n",
    "    for tif_file in tif_files:\n",
    "        # tif 파일 읽기\n",
    "        img = tiff.imread(os.path.join(input_folder, tif_file))\n",
    "        \n",
    "        # x = 179:185 구간의 평균 강도 계산\n",
    "        avg_intensity = np.mean(img[179:185, :], axis=0)\n",
    "        \n",
    "        # 최종 출력 배열 생성 (크기: 1024x10)\n",
    "        output_data = np.tile(avg_intensity[:, np.newaxis], (1, 10))\n",
    "        \n",
    "        # 출력 파일 경로 정의\n",
    "        output_file = os.path.join(output_folder, f'output_{tif_file}')\n",
    "        \n",
    "        # 출력 데이터를 tif 파일로 저장\n",
    "        tiff.imwrite(output_file, output_data.astype(np.float32))\n",
    "\n",
    "# 사용 예제\n",
    "input_folder = r\"D:\\Users\\doyeob\\Desktop\\3layerBP data\\devided data\\polar\\polar data\"\n",
    "output_folder = r\"D:\\Users\\doyeob\\Desktop\\3layerBP data\\devided data\\polar\\polar data\\peak data\\101 peak data\\radial\"\n",
    "os.makedirs(output_folder, exist_ok=True)\n",
    "process_tif_files(input_folder, output_folder)\n"
   ]
  }
 ],
 "metadata": {
  "kernelspec": {
   "display_name": "Python 3 (ipykernel)",
   "language": "python",
   "name": "python3"
  },
  "language_info": {
   "codemirror_mode": {
    "name": "ipython",
    "version": 3
   },
   "file_extension": ".py",
   "mimetype": "text/x-python",
   "name": "python",
   "nbconvert_exporter": "python",
   "pygments_lexer": "ipython3",
   "version": "3.9.19"
  }
 },
 "nbformat": 4,
 "nbformat_minor": 5
}
