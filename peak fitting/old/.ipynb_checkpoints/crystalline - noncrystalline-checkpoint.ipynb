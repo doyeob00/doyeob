{
 "cells": [
  {
   "cell_type": "code",
   "execution_count": 1,
   "id": "69fefd2d-26e0-4580-b136-9797d72b24e2",
   "metadata": {},
   "outputs": [
    {
     "name": "stdout",
     "output_type": "stream",
     "text": [
      "작업이 완료되었습니다. 결과는 새로운 엑셀 파일에 저장되었습니다.\n"
     ]
    }
   ],
   "source": [
    "import pandas as pd\n",
    "\n",
    "# 두 개의 엑셀 파일 경로를 지정합니다.\n",
    "file1_path = r\"D:\\Users\\doyeob\\Desktop\\3layerBP data\\DP profile\\DP intensity(crystal).xlsx\"\n",
    "file2_path = r\"D:\\Users\\doyeob\\Desktop\\3layerBP data\\DP profile\\DP intensity(ring)(big mask).xlsx\"\n",
    "output_file_path = r\"D:\\Users\\doyeob\\Desktop\\3layerBP data\\DP profile\\DP intensity(peak).xlsx\"\n",
    "\n",
    "# 두 개의 엑셀 파일을 읽어옵니다.\n",
    "df1 = pd.read_excel(file1_path)\n",
    "df2 = pd.read_excel(file2_path)\n",
    "\n",
    "# 결과를 저장할 데이터프레임을 초기화합니다.\n",
    "result_df = df1.copy()\n",
    "\n",
    "# 첫 번째 파일(crystalline area)에서 0이 아닌 셀에 대해 두 번째 파일(noncrystalline area)의 값을 빼기\n",
    "for col in df1.columns:\n",
    "    result_df[col] = df1[col].where(df1[col] == 0, df1[col] - df2[col])\n",
    "\n",
    "# 결과를 새로운 엑셀 파일로 저장합니다.\n",
    "result_df.to_excel(output_file_path, index=False)\n",
    "\n",
    "print(\"작업이 완료되었습니다. 결과는 새로운 엑셀 파일에 저장되었습니다.\")\n"
   ]
  },
  {
   "cell_type": "code",
   "execution_count": null,
   "id": "f1948723-31c5-4c9d-b5c1-0c20e0b4859a",
   "metadata": {},
   "outputs": [],
   "source": []
  }
 ],
 "metadata": {
  "kernelspec": {
   "display_name": "Python 3 (ipykernel)",
   "language": "python",
   "name": "python3"
  },
  "language_info": {
   "codemirror_mode": {
    "name": "ipython",
    "version": 3
   },
   "file_extension": ".py",
   "mimetype": "text/x-python",
   "name": "python",
   "nbconvert_exporter": "python",
   "pygments_lexer": "ipython3",
   "version": "3.9.19"
  }
 },
 "nbformat": 4,
 "nbformat_minor": 5
}
