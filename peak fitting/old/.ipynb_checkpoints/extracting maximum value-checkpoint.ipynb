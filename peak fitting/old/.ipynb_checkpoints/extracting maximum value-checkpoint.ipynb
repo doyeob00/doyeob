{
 "cells": [
  {
   "cell_type": "code",
   "execution_count": 2,
   "id": "e27ffe4b-5e5f-4f37-8344-11a3e187b865",
   "metadata": {},
   "outputs": [
    {
     "name": "stdout",
     "output_type": "stream",
     "text": [
      "Results saved to D:\\Users\\doyeob\\Desktop\\3layerBP data\\200 peak information.xlsx\n"
     ]
    }
   ],
   "source": [
    "import os\n",
    "import numpy as np\n",
    "import pandas as pd\n",
    "from tifffile import imread\n",
    "\n",
    "# tif 파일이 저장된 폴더 경로\n",
    "folder_path = r'D:\\Users\\doyeob\\Desktop\\3layerBP data\\devided data\\200 polar data'\n",
    "\n",
    "# 결과를 저장할 리스트 초기화\n",
    "results = []\n",
    "\n",
    "# 모든 tif 파일에 대해 처리\n",
    "for filename in os.listdir(folder_path):\n",
    "    if filename.endswith('.tif'):\n",
    "        # 파일 경로 생성\n",
    "        file_path = os.path.join(folder_path, filename)\n",
    "        \n",
    "        # 이미지 읽기\n",
    "        image = imread(file_path)\n",
    "        \n",
    "        # 지정된 영역의 intensity 값 추출\n",
    "        region = image[176:225, 266:309]\n",
    "        \n",
    "        # intensity의 최댓값 찾기\n",
    "        max_intensity = np.max(region)\n",
    "        \n",
    "         # 파일 이름에서 넘버링 추출 (앞의 91 제거)\n",
    "        file_number_str = ''.join(filter(str.isdigit, filename))\n",
    "        file_number = int(file_number_str.replace('91', '', 1))\n",
    "        \n",
    "        # 결과 저장\n",
    "        results.append((file_number, max_intensity))\n",
    "\n",
    "# 결과를 데이터프레임으로 변환\n",
    "df = pd.DataFrame(results, columns=['File Number', 'Max Intensity'])\n",
    "\n",
    "# 엑셀 파일로 저장\n",
    "output_path = r\"D:\\Users\\doyeob\\Desktop\\3layerBP data\\200 peak information.xlsx\"\n",
    "df.to_excel(output_path, index=False)\n",
    "\n",
    "print(f'Results saved to {output_path}')"
   ]
  }
 ],
 "metadata": {
  "kernelspec": {
   "display_name": "Python 3 (ipykernel)",
   "language": "python",
   "name": "python3"
  },
  "language_info": {
   "codemirror_mode": {
    "name": "ipython",
    "version": 3
   },
   "file_extension": ".py",
   "mimetype": "text/x-python",
   "name": "python",
   "nbconvert_exporter": "python",
   "pygments_lexer": "ipython3",
   "version": "3.9.19"
  }
 },
 "nbformat": 4,
 "nbformat_minor": 5
}
