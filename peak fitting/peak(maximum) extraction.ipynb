{
 "cells": [
  {
   "cell_type": "code",
   "execution_count": 1,
   "id": "fb4089ae-6ece-4d6c-9b3f-d427c8a7e467",
   "metadata": {},
   "outputs": [
    {
     "name": "stdout",
     "output_type": "stream",
     "text": [
      "First column intensity data from all TIFF files saved to D:/Users/doyeob/Desktop/3layerBP data/DP intensity(noncrystalline)(big mask).xlsx\n"
     ]
    }
   ],
   "source": [
    "import imageio.v2 as imageio\n",
    "import numpy as np\n",
    "import pandas as pd\n",
    "import glob\n",
    "import os\n",
    "\n",
    "# TIFF 파일이 저장된 폴더 경로\n",
    "folder_path = r'D:/Users/doyeob/Desktop/3layerBP data/devided data/noncrystalline masked polar data/average polar data'\n",
    "\n",
    "# 폴더 내 모든 TIFF 파일 경로 가져오기\n",
    "tif_files = glob.glob(os.path.join(folder_path, '*.tif'))\n",
    "\n",
    "# 빈 DataFrame 생성\n",
    "all_data = pd.DataFrame()\n",
    "\n",
    "# 모든 TIFF 파일에 대해 작업 수행\n",
    "for file in tif_files:\n",
    "    # TIFF 파일 열기\n",
    "    image = imageio.imread(file)\n",
    "    \n",
    "    # 첫 번째 열의 intensity 값 추출\n",
    "    first_column_intensity = image[:, 0]\n",
    "    \n",
    "    # 파일 이름에서 기본 이름 추출\n",
    "    base_name = os.path.basename(file).split('.')[0]\n",
    "    \n",
    "    # pandas DataFrame으로 변환\n",
    "    df = pd.DataFrame(first_column_intensity, columns=[base_name])\n",
    "    \n",
    "    # 데이터를 병합\n",
    "    if all_data.empty:\n",
    "        all_data = df\n",
    "    else:\n",
    "        all_data = pd.concat([all_data, df], axis=1)\n",
    "\n",
    "# Excel 파일로 저장\n",
    "excel_file = r\"D:/Users/doyeob/Desktop/3layerBP data/DP intensity(noncrystalline)(big mask).xlsx\"\n",
    "all_data.to_excel(excel_file, index=False)\n",
    "\n",
    "# 확인 메세지 출력\n",
    "print(f'First column intensity data from all TIFF files saved to {excel_file}')\n"
   ]
  },
  {
   "cell_type": "code",
   "execution_count": null,
   "id": "fe5d8864-7af5-4b6e-9641-592382d25d05",
   "metadata": {},
   "outputs": [],
   "source": []
  }
 ],
 "metadata": {
  "kernelspec": {
   "display_name": "Python 3 (ipykernel)",
   "language": "python",
   "name": "python3"
  },
  "language_info": {
   "codemirror_mode": {
    "name": "ipython",
    "version": 3
   },
   "file_extension": ".py",
   "mimetype": "text/x-python",
   "name": "python",
   "nbconvert_exporter": "python",
   "pygments_lexer": "ipython3",
   "version": "3.9.19"
  }
 },
 "nbformat": 4,
 "nbformat_minor": 5
}
