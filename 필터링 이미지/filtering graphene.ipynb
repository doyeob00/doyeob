{
 "cells": [
  {
   "cell_type": "code",
   "execution_count": 6,
   "id": "9112f3c9-15b7-47f9-b94c-02ae09ce8d83",
   "metadata": {},
   "outputs": [
    {
     "ename": "KeyboardInterrupt",
     "evalue": "",
     "output_type": "error",
     "traceback": [
      "\u001b[1;31m---------------------------------------------------------------------------\u001b[0m",
      "\u001b[1;31mKeyboardInterrupt\u001b[0m                         Traceback (most recent call last)",
      "Cell \u001b[1;32mIn[6], line 56\u001b[0m\n\u001b[0;32m     52\u001b[0m mask_path \u001b[38;5;241m=\u001b[39m \u001b[38;5;124mr\u001b[39m\u001b[38;5;124m\"\u001b[39m\u001b[38;5;124mD:\u001b[39m\u001b[38;5;124m\\\u001b[39m\u001b[38;5;124mUsers\u001b[39m\u001b[38;5;124m\\\u001b[39m\u001b[38;5;124mdoyeob\u001b[39m\u001b[38;5;124m\\\u001b[39m\u001b[38;5;124mDesktop\u001b[39m\u001b[38;5;124m\\\u001b[39m\u001b[38;5;124m3layerBP data\u001b[39m\u001b[38;5;124m\\\u001b[39m\u001b[38;5;124mmask\u001b[39m\u001b[38;5;124m\\\u001b[39m\u001b[38;5;124mgraphene mask(for noncrystalline).tif\u001b[39m\u001b[38;5;124m\"\u001b[39m\n\u001b[0;32m     53\u001b[0m output_folder \u001b[38;5;241m=\u001b[39m \u001b[38;5;124mr\u001b[39m\u001b[38;5;124m\"\u001b[39m\u001b[38;5;124mD:\u001b[39m\u001b[38;5;124m\\\u001b[39m\u001b[38;5;124mUsers\u001b[39m\u001b[38;5;124m\\\u001b[39m\u001b[38;5;124mdoyeob\u001b[39m\u001b[38;5;124m\\\u001b[39m\u001b[38;5;124mDesktop\u001b[39m\u001b[38;5;124m\\\u001b[39m\u001b[38;5;124m3layerBP data\u001b[39m\u001b[38;5;124m\\\u001b[39m\u001b[38;5;124mdevided data\u001b[39m\u001b[38;5;124m\\\u001b[39m\u001b[38;5;124mG filtered data\u001b[39m\u001b[38;5;124m\"\u001b[39m\n\u001b[1;32m---> 56\u001b[0m \u001b[43mprocess_images\u001b[49m\u001b[43m(\u001b[49m\u001b[43minput_folder\u001b[49m\u001b[43m,\u001b[49m\u001b[43m \u001b[49m\u001b[43mmask_path\u001b[49m\u001b[43m,\u001b[49m\u001b[43m \u001b[49m\u001b[43moutput_folder\u001b[49m\u001b[43m)\u001b[49m\n",
      "Cell \u001b[1;32mIn[6], line 38\u001b[0m, in \u001b[0;36mprocess_images\u001b[1;34m(input_folder, mask_path, output_folder)\u001b[0m\n\u001b[0;32m     35\u001b[0m \u001b[38;5;66;03m# Process each TIFF file in the input folder\u001b[39;00m\n\u001b[0;32m     36\u001b[0m \u001b[38;5;28;01mfor\u001b[39;00m file_path \u001b[38;5;129;01min\u001b[39;00m glob\u001b[38;5;241m.\u001b[39mglob(os\u001b[38;5;241m.\u001b[39mpath\u001b[38;5;241m.\u001b[39mjoin(input_folder, \u001b[38;5;124m\"\u001b[39m\u001b[38;5;124m*.tif\u001b[39m\u001b[38;5;124m\"\u001b[39m)):\n\u001b[0;32m     37\u001b[0m     \u001b[38;5;66;03m# Load the image\u001b[39;00m\n\u001b[1;32m---> 38\u001b[0m     image \u001b[38;5;241m=\u001b[39m \u001b[43mImage\u001b[49m\u001b[38;5;241;43m.\u001b[39;49m\u001b[43mopen\u001b[49m\u001b[43m(\u001b[49m\u001b[43mfile_path\u001b[49m\u001b[43m)\u001b[49m\u001b[38;5;241m.\u001b[39mconvert(\u001b[38;5;124m'\u001b[39m\u001b[38;5;124mL\u001b[39m\u001b[38;5;124m'\u001b[39m)\n\u001b[0;32m     39\u001b[0m     image_array \u001b[38;5;241m=\u001b[39m np\u001b[38;5;241m.\u001b[39marray(image)\n\u001b[0;32m     41\u001b[0m     \u001b[38;5;66;03m# Apply the mask and perform IFFT\u001b[39;00m\n",
      "File \u001b[1;32mD:\\Users\\doyeob\\anaconda3\\envs\\doyeob\\lib\\site-packages\\PIL\\Image.py:3318\u001b[0m, in \u001b[0;36mopen\u001b[1;34m(fp, mode, formats)\u001b[0m\n\u001b[0;32m   3315\u001b[0m             \u001b[38;5;28;01mraise\u001b[39;00m\n\u001b[0;32m   3316\u001b[0m     \u001b[38;5;28;01mreturn\u001b[39;00m \u001b[38;5;28;01mNone\u001b[39;00m\n\u001b[1;32m-> 3318\u001b[0m im \u001b[38;5;241m=\u001b[39m \u001b[43m_open_core\u001b[49m\u001b[43m(\u001b[49m\u001b[43mfp\u001b[49m\u001b[43m,\u001b[49m\u001b[43m \u001b[49m\u001b[43mfilename\u001b[49m\u001b[43m,\u001b[49m\u001b[43m \u001b[49m\u001b[43mprefix\u001b[49m\u001b[43m,\u001b[49m\u001b[43m \u001b[49m\u001b[43mformats\u001b[49m\u001b[43m)\u001b[49m\n\u001b[0;32m   3320\u001b[0m \u001b[38;5;28;01mif\u001b[39;00m im \u001b[38;5;129;01mis\u001b[39;00m \u001b[38;5;28;01mNone\u001b[39;00m \u001b[38;5;129;01mand\u001b[39;00m formats \u001b[38;5;129;01mis\u001b[39;00m ID:\n\u001b[0;32m   3321\u001b[0m     checked_formats \u001b[38;5;241m=\u001b[39m formats\u001b[38;5;241m.\u001b[39mcopy()\n",
      "File \u001b[1;32mD:\\Users\\doyeob\\anaconda3\\envs\\doyeob\\lib\\site-packages\\PIL\\Image.py:3304\u001b[0m, in \u001b[0;36mopen.<locals>._open_core\u001b[1;34m(fp, filename, prefix, formats)\u001b[0m\n\u001b[0;32m   3302\u001b[0m \u001b[38;5;28;01melif\u001b[39;00m result:\n\u001b[0;32m   3303\u001b[0m     fp\u001b[38;5;241m.\u001b[39mseek(\u001b[38;5;241m0\u001b[39m)\n\u001b[1;32m-> 3304\u001b[0m     im \u001b[38;5;241m=\u001b[39m \u001b[43mfactory\u001b[49m\u001b[43m(\u001b[49m\u001b[43mfp\u001b[49m\u001b[43m,\u001b[49m\u001b[43m \u001b[49m\u001b[43mfilename\u001b[49m\u001b[43m)\u001b[49m\n\u001b[0;32m   3305\u001b[0m     _decompression_bomb_check(im\u001b[38;5;241m.\u001b[39msize)\n\u001b[0;32m   3306\u001b[0m     \u001b[38;5;28;01mreturn\u001b[39;00m im\n",
      "File \u001b[1;32mD:\\Users\\doyeob\\anaconda3\\envs\\doyeob\\lib\\site-packages\\PIL\\TiffImagePlugin.py:1102\u001b[0m, in \u001b[0;36mTiffImageFile.__init__\u001b[1;34m(self, fp, filename)\u001b[0m\n\u001b[0;32m   1099\u001b[0m \u001b[38;5;28mself\u001b[39m\u001b[38;5;241m.\u001b[39mtag \u001b[38;5;241m=\u001b[39m \u001b[38;5;28;01mNone\u001b[39;00m\n\u001b[0;32m   1100\u001b[0m \u001b[38;5;250m\u001b[39m\u001b[38;5;124;03m\"\"\" Legacy tag entries \"\"\"\u001b[39;00m\n\u001b[1;32m-> 1102\u001b[0m \u001b[38;5;28;43msuper\u001b[39;49m\u001b[43m(\u001b[49m\u001b[43m)\u001b[49m\u001b[38;5;241;43m.\u001b[39;49m\u001b[38;5;21;43m__init__\u001b[39;49m\u001b[43m(\u001b[49m\u001b[43mfp\u001b[49m\u001b[43m,\u001b[49m\u001b[43m \u001b[49m\u001b[43mfilename\u001b[49m\u001b[43m)\u001b[49m\n",
      "File \u001b[1;32mD:\\Users\\doyeob\\anaconda3\\envs\\doyeob\\lib\\site-packages\\PIL\\ImageFile.py:137\u001b[0m, in \u001b[0;36mImageFile.__init__\u001b[1;34m(self, fp, filename)\u001b[0m\n\u001b[0;32m    135\u001b[0m \u001b[38;5;28;01mtry\u001b[39;00m:\n\u001b[0;32m    136\u001b[0m     \u001b[38;5;28;01mtry\u001b[39;00m:\n\u001b[1;32m--> 137\u001b[0m         \u001b[38;5;28;43mself\u001b[39;49m\u001b[38;5;241;43m.\u001b[39;49m\u001b[43m_open\u001b[49m\u001b[43m(\u001b[49m\u001b[43m)\u001b[49m\n\u001b[0;32m    138\u001b[0m     \u001b[38;5;28;01mexcept\u001b[39;00m (\n\u001b[0;32m    139\u001b[0m         \u001b[38;5;167;01mIndexError\u001b[39;00m,  \u001b[38;5;66;03m# end of data\u001b[39;00m\n\u001b[0;32m    140\u001b[0m         \u001b[38;5;167;01mTypeError\u001b[39;00m,  \u001b[38;5;66;03m# end of data (ord)\u001b[39;00m\n\u001b[1;32m   (...)\u001b[0m\n\u001b[0;32m    143\u001b[0m         struct\u001b[38;5;241m.\u001b[39merror,\n\u001b[0;32m    144\u001b[0m     ) \u001b[38;5;28;01mas\u001b[39;00m v:\n\u001b[0;32m    145\u001b[0m         \u001b[38;5;28;01mraise\u001b[39;00m \u001b[38;5;167;01mSyntaxError\u001b[39;00m(v) \u001b[38;5;28;01mfrom\u001b[39;00m \u001b[38;5;21;01mv\u001b[39;00m\n",
      "File \u001b[1;32mD:\\Users\\doyeob\\anaconda3\\envs\\doyeob\\lib\\site-packages\\PIL\\TiffImagePlugin.py:1129\u001b[0m, in \u001b[0;36mTiffImageFile._open\u001b[1;34m(self)\u001b[0m\n\u001b[0;32m   1126\u001b[0m logger\u001b[38;5;241m.\u001b[39mdebug(\u001b[38;5;124m\"\u001b[39m\u001b[38;5;124m- ifh: \u001b[39m\u001b[38;5;132;01m%s\u001b[39;00m\u001b[38;5;124m\"\u001b[39m, \u001b[38;5;28mrepr\u001b[39m(ifh))  \u001b[38;5;66;03m# Use repr to avoid str(bytes)\u001b[39;00m\n\u001b[0;32m   1128\u001b[0m \u001b[38;5;66;03m# and load the first frame\u001b[39;00m\n\u001b[1;32m-> 1129\u001b[0m \u001b[38;5;28;43mself\u001b[39;49m\u001b[38;5;241;43m.\u001b[39;49m\u001b[43m_seek\u001b[49m\u001b[43m(\u001b[49m\u001b[38;5;241;43m0\u001b[39;49m\u001b[43m)\u001b[49m\n",
      "File \u001b[1;32mD:\\Users\\doyeob\\anaconda3\\envs\\doyeob\\lib\\site-packages\\PIL\\TiffImagePlugin.py:1176\u001b[0m, in \u001b[0;36mTiffImageFile._seek\u001b[1;34m(self, frame)\u001b[0m\n\u001b[0;32m   1174\u001b[0m \u001b[38;5;28mself\u001b[39m\u001b[38;5;241m.\u001b[39m_frame_pos\u001b[38;5;241m.\u001b[39mappend(\u001b[38;5;28mself\u001b[39m\u001b[38;5;241m.\u001b[39m__next)\n\u001b[0;32m   1175\u001b[0m logger\u001b[38;5;241m.\u001b[39mdebug(\u001b[38;5;124m\"\u001b[39m\u001b[38;5;124mLoading tags, location: \u001b[39m\u001b[38;5;132;01m%s\u001b[39;00m\u001b[38;5;124m\"\u001b[39m, \u001b[38;5;28mself\u001b[39m\u001b[38;5;241m.\u001b[39mfp\u001b[38;5;241m.\u001b[39mtell())\n\u001b[1;32m-> 1176\u001b[0m \u001b[38;5;28;43mself\u001b[39;49m\u001b[38;5;241;43m.\u001b[39;49m\u001b[43mtag_v2\u001b[49m\u001b[38;5;241;43m.\u001b[39;49m\u001b[43mload\u001b[49m\u001b[43m(\u001b[49m\u001b[38;5;28;43mself\u001b[39;49m\u001b[38;5;241;43m.\u001b[39;49m\u001b[43mfp\u001b[49m\u001b[43m)\u001b[49m\n\u001b[0;32m   1177\u001b[0m \u001b[38;5;28;01mif\u001b[39;00m \u001b[38;5;28mself\u001b[39m\u001b[38;5;241m.\u001b[39mtag_v2\u001b[38;5;241m.\u001b[39mnext \u001b[38;5;129;01min\u001b[39;00m \u001b[38;5;28mself\u001b[39m\u001b[38;5;241m.\u001b[39m_frame_pos:\n\u001b[0;32m   1178\u001b[0m     \u001b[38;5;66;03m# This IFD has already been processed\u001b[39;00m\n\u001b[0;32m   1179\u001b[0m     \u001b[38;5;66;03m# Declare this to be the end of the image\u001b[39;00m\n\u001b[0;32m   1180\u001b[0m     \u001b[38;5;28mself\u001b[39m\u001b[38;5;241m.\u001b[39m__next \u001b[38;5;241m=\u001b[39m \u001b[38;5;241m0\u001b[39m\n",
      "File \u001b[1;32mD:\\Users\\doyeob\\anaconda3\\envs\\doyeob\\lib\\site-packages\\PIL\\TiffImagePlugin.py:834\u001b[0m, in \u001b[0;36mImageFileDirectory_v2.load\u001b[1;34m(self, fp)\u001b[0m\n\u001b[0;32m    828\u001b[0m \u001b[38;5;28mself\u001b[39m\u001b[38;5;241m.\u001b[39m_offset \u001b[38;5;241m=\u001b[39m fp\u001b[38;5;241m.\u001b[39mtell()\n\u001b[0;32m    830\u001b[0m \u001b[38;5;28;01mtry\u001b[39;00m:\n\u001b[0;32m    831\u001b[0m     tag_count \u001b[38;5;241m=\u001b[39m (\n\u001b[0;32m    832\u001b[0m         \u001b[38;5;28mself\u001b[39m\u001b[38;5;241m.\u001b[39m_unpack(\u001b[38;5;124m\"\u001b[39m\u001b[38;5;124mQ\u001b[39m\u001b[38;5;124m\"\u001b[39m, \u001b[38;5;28mself\u001b[39m\u001b[38;5;241m.\u001b[39m_ensure_read(fp, \u001b[38;5;241m8\u001b[39m))\n\u001b[0;32m    833\u001b[0m         \u001b[38;5;28;01mif\u001b[39;00m \u001b[38;5;28mself\u001b[39m\u001b[38;5;241m.\u001b[39m_bigtiff\n\u001b[1;32m--> 834\u001b[0m         \u001b[38;5;28;01melse\u001b[39;00m \u001b[38;5;28mself\u001b[39m\u001b[38;5;241m.\u001b[39m_unpack(\u001b[38;5;124m\"\u001b[39m\u001b[38;5;124mH\u001b[39m\u001b[38;5;124m\"\u001b[39m, \u001b[38;5;28;43mself\u001b[39;49m\u001b[38;5;241;43m.\u001b[39;49m\u001b[43m_ensure_read\u001b[49m\u001b[43m(\u001b[49m\u001b[43mfp\u001b[49m\u001b[43m,\u001b[49m\u001b[43m \u001b[49m\u001b[38;5;241;43m2\u001b[39;49m\u001b[43m)\u001b[49m)\n\u001b[0;32m    835\u001b[0m     )[\u001b[38;5;241m0\u001b[39m]\n\u001b[0;32m    836\u001b[0m     \u001b[38;5;28;01mfor\u001b[39;00m i \u001b[38;5;129;01min\u001b[39;00m \u001b[38;5;28mrange\u001b[39m(tag_count):\n\u001b[0;32m    837\u001b[0m         tag, typ, count, data \u001b[38;5;241m=\u001b[39m (\n\u001b[0;32m    838\u001b[0m             \u001b[38;5;28mself\u001b[39m\u001b[38;5;241m.\u001b[39m_unpack(\u001b[38;5;124m\"\u001b[39m\u001b[38;5;124mHHQ8s\u001b[39m\u001b[38;5;124m\"\u001b[39m, \u001b[38;5;28mself\u001b[39m\u001b[38;5;241m.\u001b[39m_ensure_read(fp, \u001b[38;5;241m20\u001b[39m))\n\u001b[0;32m    839\u001b[0m             \u001b[38;5;28;01mif\u001b[39;00m \u001b[38;5;28mself\u001b[39m\u001b[38;5;241m.\u001b[39m_bigtiff\n\u001b[0;32m    840\u001b[0m             \u001b[38;5;28;01melse\u001b[39;00m \u001b[38;5;28mself\u001b[39m\u001b[38;5;241m.\u001b[39m_unpack(\u001b[38;5;124m\"\u001b[39m\u001b[38;5;124mHHL4s\u001b[39m\u001b[38;5;124m\"\u001b[39m, \u001b[38;5;28mself\u001b[39m\u001b[38;5;241m.\u001b[39m_ensure_read(fp, \u001b[38;5;241m12\u001b[39m))\n\u001b[0;32m    841\u001b[0m         )\n",
      "File \u001b[1;32mD:\\Users\\doyeob\\anaconda3\\envs\\doyeob\\lib\\site-packages\\PIL\\TiffImagePlugin.py:817\u001b[0m, in \u001b[0;36mImageFileDirectory_v2._ensure_read\u001b[1;34m(self, fp, size)\u001b[0m\n\u001b[0;32m    816\u001b[0m \u001b[38;5;28;01mdef\u001b[39;00m \u001b[38;5;21m_ensure_read\u001b[39m(\u001b[38;5;28mself\u001b[39m, fp, size):\n\u001b[1;32m--> 817\u001b[0m     ret \u001b[38;5;241m=\u001b[39m \u001b[43mfp\u001b[49m\u001b[38;5;241;43m.\u001b[39;49m\u001b[43mread\u001b[49m\u001b[43m(\u001b[49m\u001b[43msize\u001b[49m\u001b[43m)\u001b[49m\n\u001b[0;32m    818\u001b[0m     \u001b[38;5;28;01mif\u001b[39;00m \u001b[38;5;28mlen\u001b[39m(ret) \u001b[38;5;241m!=\u001b[39m size:\n\u001b[0;32m    819\u001b[0m         msg \u001b[38;5;241m=\u001b[39m (\n\u001b[0;32m    820\u001b[0m             \u001b[38;5;124m\"\u001b[39m\u001b[38;5;124mCorrupt EXIF data.  \u001b[39m\u001b[38;5;124m\"\u001b[39m\n\u001b[0;32m    821\u001b[0m             \u001b[38;5;124mf\u001b[39m\u001b[38;5;124m\"\u001b[39m\u001b[38;5;124mExpecting to read \u001b[39m\u001b[38;5;132;01m{\u001b[39;00msize\u001b[38;5;132;01m}\u001b[39;00m\u001b[38;5;124m bytes but only got \u001b[39m\u001b[38;5;132;01m{\u001b[39;00m\u001b[38;5;28mlen\u001b[39m(ret)\u001b[38;5;132;01m}\u001b[39;00m\u001b[38;5;124m. \u001b[39m\u001b[38;5;124m\"\u001b[39m\n\u001b[0;32m    822\u001b[0m         )\n",
      "\u001b[1;31mKeyboardInterrupt\u001b[0m: "
     ]
    }
   ],
   "source": [
    "import numpy as np\n",
    "from scipy.fft import fft2, ifft2, fftshift, ifftshift\n",
    "from PIL import Image\n",
    "import glob\n",
    "import os\n",
    "\n",
    "def apply_mask(image_array, mask_array):\n",
    "    # Perform FFT\n",
    "    fft_image = fft2(image_array)\n",
    "    fft_image_shifted = fftshift(fft_image)\n",
    "    \n",
    "    # Apply the mask\n",
    "    masked_fft_image = fft_image_shifted * mask_array\n",
    "    \n",
    "    # Perform IFFT\n",
    "    ifft_image_shifted = ifftshift(masked_fft_image)\n",
    "    ifft_image = ifft2(ifft_image_shifted)\n",
    "    \n",
    "    # Take the absolute value\n",
    "    ifft_image = np.abs(ifft_image)\n",
    "    \n",
    "    return ifft_image\n",
    "\n",
    "def process_images(input_folder, mask_path, output_folder):\n",
    "    # Load the mask image\n",
    "    mask_image = Image.open(mask_path).convert('L')\n",
    "    mask_array = np.array(mask_image)\n",
    "    \n",
    "    \n",
    "    # Ensure output folder exists\n",
    "    os.makedirs(output_folder, exist_ok=True)\n",
    "    \n",
    "    # Process each TIFF file in the input folder\n",
    "    for file_path in glob.glob(os.path.join(input_folder, \"*.tif\")):\n",
    "        # Load the image\n",
    "        image = Image.open(file_path).convert('L')\n",
    "        image_array = np.array(image)\n",
    "        \n",
    "        # Apply the mask and perform IFFT\n",
    "        processed_image_array = apply_mask(image_array, mask_array)\n",
    "        \n",
    "        # Save the processed image as 32-bit float TIFF\n",
    "        file_name = os.path.basename(file_path)\n",
    "        output_path = os.path.join(output_folder, file_name)\n",
    "        processed_image = Image.fromarray(processed_image_array.astype(np.float32))\n",
    "        processed_image.save(output_path, format='TIFF')\n",
    "\n",
    "# Example usage:\n",
    "input_folder = r\"D:\\Users\\doyeob\\Desktop\\3layerBP data\\devided data\\original data\"\n",
    "mask_path = r\"D:\\Users\\doyeob\\Desktop\\3layerBP data\\mask\\graphene mask(for noncrystalline).tif\"\n",
    "output_folder = r\"D:\\Users\\doyeob\\Desktop\\3layerBP data\\devided data\\G filtered data\"\n",
    "\n",
    "\n",
    "process_images(input_folder, mask_path, output_folder)\n"
   ]
  },
  {
   "cell_type": "code",
   "execution_count": null,
   "id": "8e673ae3-ac0b-4bfe-8a27-e46d4e13417c",
   "metadata": {},
   "outputs": [],
   "source": []
  }
 ],
 "metadata": {
  "kernelspec": {
   "display_name": "Python 3 (ipykernel)",
   "language": "python",
   "name": "python3"
  },
  "language_info": {
   "codemirror_mode": {
    "name": "ipython",
    "version": 3
   },
   "file_extension": ".py",
   "mimetype": "text/x-python",
   "name": "python",
   "nbconvert_exporter": "python",
   "pygments_lexer": "ipython3",
   "version": "3.9.19"
  }
 },
 "nbformat": 4,
 "nbformat_minor": 5
}
