{
 "cells": [
  {
   "cell_type": "code",
   "execution_count": 3,
   "id": "1f433fd8-9b07-4eea-b428-85827859b693",
   "metadata": {},
   "outputs": [
    {
     "name": "stdout",
     "output_type": "stream",
     "text": [
      "임무 완료했습니다 주인님\n"
     ]
    }
   ],
   "source": [
    "import pandas as pd\n",
    "import numpy as np\n",
    "\n",
    "# 엑셀 파일 읽기\n",
    "input_file = r\"D:\\Users\\doyeob\\Desktop\\3layerBP data\\DP profile\\DP intensity-23to272.xlsx\"\n",
    "df = pd.read_excel(input_file, sheet_name='Sheet1')\n",
    "\n",
    "# 30번째 행과 269번째 행의 값을 사용해 baseline 계산\n",
    "def calculate_baseline(column):\n",
    "    start_value = column.iloc[30 - 24]  # 30번째 행의 값 (0-indexed 보정)\n",
    "    end_value = column.iloc[269 - 24]  # 269번째 행의 값 (0-indexed 보정)\n",
    "    baseline = np.linspace(start_value, end_value, len(column))\n",
    "    return baseline\n",
    "\n",
    "# 데이터 프레임 생성\n",
    "df_baseline = pd.DataFrame(index=df.index, columns=df.columns)\n",
    "df_corrected = pd.DataFrame(index=df.index, columns=df.columns)\n",
    "\n",
    "# 각 열에 대해 baseline 제거\n",
    "for col in df.columns:\n",
    "    column_data = df[col].iloc[23:273]  # 24행부터 273행까지의 데이터 (0-indexed라 23:273)\n",
    "    baseline = calculate_baseline(column_data)\n",
    "    df_baseline.loc[23:272, col] = baseline\n",
    "    df_corrected.loc[23:272, col] = column_data.values - baseline\n",
    "\n",
    "# 원본 데이터 저장 (Sheet1)\n",
    "output_file = r\"D:\\Users\\doyeob\\Desktop\\3layerBP data\\DP profile\\DP intensity(without baseline).xlsx\"\n",
    "with pd.ExcelWriter(output_file) as writer:\n",
    "    df.to_excel(writer, sheet_name='Sheet1')\n",
    "\n",
    "    # baseline 데이터 저장 (Sheet2)\n",
    "    df_baseline.to_excel(writer, sheet_name='Sheet2')\n",
    "\n",
    "    # baseline 제거한 데이터 저장 (Sheet3)\n",
    "    df_corrected.to_excel(writer, sheet_name='Sheet3')\n",
    "\n",
    "print('임무 완료했습니다 주인님')"
   ]
  }
 ],
 "metadata": {
  "kernelspec": {
   "display_name": "Python 3 (ipykernel)",
   "language": "python",
   "name": "python3"
  },
  "language_info": {
   "codemirror_mode": {
    "name": "ipython",
    "version": 3
   },
   "file_extension": ".py",
   "mimetype": "text/x-python",
   "name": "python",
   "nbconvert_exporter": "python",
   "pygments_lexer": "ipython3",
   "version": "3.9.19"
  }
 },
 "nbformat": 4,
 "nbformat_minor": 5
}
