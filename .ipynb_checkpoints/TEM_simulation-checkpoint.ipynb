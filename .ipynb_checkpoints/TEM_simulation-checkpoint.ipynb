{
 "cells": [
  {
   "cell_type": "code",
   "execution_count": 5,
   "id": "f28c90c0-8270-4aa7-ac51-1c5d5f4e0ca4",
   "metadata": {},
   "outputs": [
    {
     "name": "stdout",
     "output_type": "stream",
     "text": [
      "current version: 1.0.5\n"
     ]
    }
   ],
   "source": [
    "import numpy as np\n",
    "import pickle\n",
    "import os\n",
    "import matplotlib.pyplot as plt\n",
    "\n",
    "\n",
    "from matplotlib import pyplot as plt\n",
    "# from abtem.noise import poisson_noise\n",
    "# from abtem.noise import add_scan_noise\n",
    "from abtem import __version__\n",
    "print('current version:', __version__)\n",
    "\n",
    "from ase.io import read\n",
    "from ase.cluster import wulff_construction\n",
    "from ase import Atoms\n",
    "import matplotlib.pyplot as plt\n",
    "from abtem import *"
   ]
  },
  {
   "cell_type": "code",
   "execution_count": 7,
   "id": "e1c93136-ecd2-4ce1-9be6-ef6fe8a71ab6",
   "metadata": {},
   "outputs": [
    {
     "name": "stdout",
     "output_type": "stream",
     "text": [
      "(746, 795)\n",
      "Image saved as D:\\Users\\doyeob\\Desktop\\TEM simulation\\BP_3layer_crop_ver2_-50.tif\n"
     ]
    }
   ],
   "source": [
    "import numpy as np\n",
    "import os\n",
    "import matplotlib.pyplot as plt\n",
    "from ase.io import read\n",
    "from ase.cluster import wulff_construction\n",
    "from ase import Atoms\n",
    "from abtem import Potential, PlaneWave, CTF\n",
    "from PIL import Image\n",
    "\n",
    "# Set file information\n",
    "px = 700\n",
    "\n",
    "# Load images\n",
    "atoms = read(r'D:\\Users\\doyeob\\Desktop\\TEM simulation sample\\BP supercell(exx-1_eyy-1, 50unitcell).xyz')\n",
    "\n",
    "''''''''' File making simulation '''''''''\n",
    "atoms.center(vacuum=10)\n",
    "rotx = 0\n",
    "atoms.rotate(1, 'y', center='cop')\n",
    "\n",
    "\"\"\" potential \"\"\"\n",
    "potential = Potential(atoms, \n",
    "                      gpts=(np.max(atoms.positions[:,0]) * 15, np.max(atoms.positions[:,1]) * 15),\n",
    "                      slice_thickness=1, \n",
    "                      parametrization='kirkland',\n",
    "                      projection='infinite')\n",
    "\n",
    "\"\"\" Wave \"\"\"\n",
    "wave = PlaneWave(energy=80e3) # acceleration voltage in eV\n",
    "exit_wave = wave.multislice(potential)\n",
    "\n",
    "\"\"\" CTF \"\"\"\n",
    "DF = -50\n",
    "ctf = CTF(energy=wave.energy,\n",
    "          semiangle_cutoff=40, # mrad\n",
    "          focal_spread=50, # Å\n",
    "          defocus=DF, # Å\n",
    "          Cs=-1e-5 * 1e10) # Å\n",
    "\n",
    "image_wave = exit_wave.apply_ctf(ctf)\n",
    "measurement = image_wave.intensity()\n",
    "\n",
    "A = measurement.array\n",
    "X = (A - np.min(A)) / np.ptp(A)\n",
    "print(X.shape)\n",
    "\n",
    "''' Image save '''\n",
    "image_path = r'D:\\Users\\doyeob\\Desktop\\TEM simulation\\BP_3layer_crop_ver2_-50.tif'\n",
    "im = Image.fromarray(np.uint8(X * 255))  # 0-255 범위로 변환\n",
    "im.save(image_path, format='TIFF')\n",
    "\n",
    "print(f\"Image saved as {image_path}\")\n"
   ]
  },
  {
   "cell_type": "code",
   "execution_count": 41,
   "id": "bdd436d8-de1c-481d-983c-39028bdb3b39",
   "metadata": {},
   "outputs": [
    {
     "ename": "SyntaxError",
     "evalue": "unexpected EOF while parsing (2159877315.py, line 1)",
     "output_type": "error",
     "traceback": [
      "\u001b[1;36m  Cell \u001b[1;32mIn[41], line 1\u001b[1;36m\u001b[0m\n\u001b[1;33m    tifffile.imwrite(r'C:\\Users\\User\\Desktop\\twisted_0.43.tif', np.array(np.abs(twisted_ave), dtype=np.float32)\u001b[0m\n\u001b[1;37m                                                                                                               ^\u001b[0m\n\u001b[1;31mSyntaxError\u001b[0m\u001b[1;31m:\u001b[0m unexpected EOF while parsing\n"
     ]
    }
   ],
   "source": [
    "tifffile.imwrite(r'C:\\Users\\User\\Desktop\\twisted_0.43.tif', np.array(np.abs(twisted_ave), dtype=np.float32)"
   ]
  },
  {
   "cell_type": "code",
   "execution_count": null,
   "id": "3ca8d5d6-c9c7-4d8c-89c0-deb505b4389e",
   "metadata": {},
   "outputs": [],
   "source": []
  },
  {
   "cell_type": "code",
   "execution_count": null,
   "id": "9e52e6ad-c312-4161-b035-4aa3d0c08381",
   "metadata": {},
   "outputs": [],
   "source": []
  }
 ],
 "metadata": {
  "kernelspec": {
   "display_name": "Python 3 (ipykernel)",
   "language": "python",
   "name": "python3"
  },
  "language_info": {
   "codemirror_mode": {
    "name": "ipython",
    "version": 3
   },
   "file_extension": ".py",
   "mimetype": "text/x-python",
   "name": "python",
   "nbconvert_exporter": "python",
   "pygments_lexer": "ipython3",
   "version": "3.9.19"
  }
 },
 "nbformat": 4,
 "nbformat_minor": 5
}
