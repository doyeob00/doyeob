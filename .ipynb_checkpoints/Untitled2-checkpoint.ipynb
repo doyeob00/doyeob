{
 "cells": [
  {
   "cell_type": "code",
   "execution_count": 3,
   "id": "63fac63b-c462-45c3-b6bd-4256f3c8ff1b",
   "metadata": {},
   "outputs": [
    {
     "ename": "ValueError",
     "evalue": "<COMPRESSION.LZW: 5> requires the 'imagecodecs' package",
     "output_type": "error",
     "traceback": [
      "\u001b[1;31m---------------------------------------------------------------------------\u001b[0m",
      "\u001b[1;31mValueError\u001b[0m                                Traceback (most recent call last)",
      "Cell \u001b[1;32mIn[3], line 51\u001b[0m\n\u001b[0;32m     48\u001b[0m mask_file \u001b[38;5;241m=\u001b[39m \u001b[38;5;124mr\u001b[39m\u001b[38;5;124m\"\u001b[39m\u001b[38;5;124mD:\u001b[39m\u001b[38;5;124m\\\u001b[39m\u001b[38;5;124mUsers\u001b[39m\u001b[38;5;124m\\\u001b[39m\u001b[38;5;124mdoyeob\u001b[39m\u001b[38;5;124m\\\u001b[39m\u001b[38;5;124mDesktop\u001b[39m\u001b[38;5;124m\\\u001b[39m\u001b[38;5;124m3layerBP data\u001b[39m\u001b[38;5;124m\\\u001b[39m\u001b[38;5;124mdevided data\u001b[39m\u001b[38;5;124m\\\u001b[39m\u001b[38;5;124mmask\u001b[39m\u001b[38;5;124m\\\u001b[39m\u001b[38;5;124mG,BP mask.tif\u001b[39m\u001b[38;5;124m\"\u001b[39m\n\u001b[0;32m     50\u001b[0m \u001b[38;5;66;03m# .tif 파일 처리\u001b[39;00m\n\u001b[1;32m---> 51\u001b[0m \u001b[43mprocess_tif_files\u001b[49m\u001b[43m(\u001b[49m\u001b[43minput_folder\u001b[49m\u001b[43m,\u001b[49m\u001b[43m \u001b[49m\u001b[43moutput_folder\u001b[49m\u001b[43m,\u001b[49m\u001b[43m \u001b[49m\u001b[43mmask_file\u001b[49m\u001b[43m)\u001b[49m\n\u001b[0;32m     53\u001b[0m \u001b[38;5;28mprint\u001b[39m(\u001b[38;5;124m\"\u001b[39m\u001b[38;5;124mAll files have been processed.\u001b[39m\u001b[38;5;124m\"\u001b[39m)\n",
      "Cell \u001b[1;32mIn[3], line 19\u001b[0m, in \u001b[0;36mprocess_tif_files\u001b[1;34m(input_folder, output_folder, mask_file)\u001b[0m\n\u001b[0;32m     17\u001b[0m \u001b[38;5;28;01mdef\u001b[39;00m \u001b[38;5;21mprocess_tif_files\u001b[39m(input_folder, output_folder, mask_file):\n\u001b[0;32m     18\u001b[0m     \u001b[38;5;66;03m# 마스크 파일 읽기\u001b[39;00m\n\u001b[1;32m---> 19\u001b[0m     mask \u001b[38;5;241m=\u001b[39m \u001b[43mtiff\u001b[49m\u001b[38;5;241;43m.\u001b[39;49m\u001b[43mimread\u001b[49m\u001b[43m(\u001b[49m\u001b[43mmask_file\u001b[49m\u001b[43m)\u001b[49m\n\u001b[0;32m     21\u001b[0m     \u001b[38;5;28;01mif\u001b[39;00m \u001b[38;5;129;01mnot\u001b[39;00m os\u001b[38;5;241m.\u001b[39mpath\u001b[38;5;241m.\u001b[39mexists(output_folder):\n\u001b[0;32m     22\u001b[0m         os\u001b[38;5;241m.\u001b[39mmakedirs(output_folder)\n",
      "File \u001b[1;32mD:\\Users\\doyeob\\anaconda3\\envs\\doyeob\\lib\\site-packages\\tifffile\\tifffile.py:1258\u001b[0m, in \u001b[0;36mimread\u001b[1;34m(***failed resolving arguments***)\u001b[0m\n\u001b[0;32m   1256\u001b[0m                     \u001b[38;5;28;01mreturn\u001b[39;00m store\n\u001b[0;32m   1257\u001b[0m                 \u001b[38;5;28;01mreturn\u001b[39;00m zarr_selection(store, selection, out\u001b[38;5;241m=\u001b[39mout)\n\u001b[1;32m-> 1258\u001b[0m             \u001b[38;5;28;01mreturn\u001b[39;00m \u001b[43mtif\u001b[49m\u001b[38;5;241;43m.\u001b[39;49m\u001b[43masarray\u001b[49m\u001b[43m(\u001b[49m\n\u001b[0;32m   1259\u001b[0m \u001b[43m                \u001b[49m\u001b[43mkey\u001b[49m\u001b[38;5;241;43m=\u001b[39;49m\u001b[43mkey\u001b[49m\u001b[43m,\u001b[49m\n\u001b[0;32m   1260\u001b[0m \u001b[43m                \u001b[49m\u001b[43mseries\u001b[49m\u001b[38;5;241;43m=\u001b[39;49m\u001b[43mseries\u001b[49m\u001b[43m,\u001b[49m\n\u001b[0;32m   1261\u001b[0m \u001b[43m                \u001b[49m\u001b[43mlevel\u001b[49m\u001b[38;5;241;43m=\u001b[39;49m\u001b[43mlevel\u001b[49m\u001b[43m,\u001b[49m\n\u001b[0;32m   1262\u001b[0m \u001b[43m                \u001b[49m\u001b[43msqueeze\u001b[49m\u001b[38;5;241;43m=\u001b[39;49m\u001b[43msqueeze\u001b[49m\u001b[43m,\u001b[49m\n\u001b[0;32m   1263\u001b[0m \u001b[43m                \u001b[49m\u001b[43mmaxworkers\u001b[49m\u001b[38;5;241;43m=\u001b[39;49m\u001b[43mmaxworkers\u001b[49m\u001b[43m,\u001b[49m\n\u001b[0;32m   1264\u001b[0m \u001b[43m                \u001b[49m\u001b[43mbuffersize\u001b[49m\u001b[38;5;241;43m=\u001b[39;49m\u001b[43mbuffersize\u001b[49m\u001b[43m,\u001b[49m\n\u001b[0;32m   1265\u001b[0m \u001b[43m                \u001b[49m\u001b[43mout\u001b[49m\u001b[38;5;241;43m=\u001b[39;49m\u001b[43mout\u001b[49m\u001b[43m,\u001b[49m\n\u001b[0;32m   1266\u001b[0m \u001b[43m            \u001b[49m\u001b[43m)\u001b[49m\n\u001b[0;32m   1268\u001b[0m \u001b[38;5;28;01melif\u001b[39;00m \u001b[38;5;28misinstance\u001b[39m(files, (FileHandle, BinaryIO)):\n\u001b[0;32m   1269\u001b[0m     \u001b[38;5;28;01mraise\u001b[39;00m \u001b[38;5;167;01mValueError\u001b[39;00m(\u001b[38;5;124m'\u001b[39m\u001b[38;5;124mBinaryIO not supported\u001b[39m\u001b[38;5;124m'\u001b[39m)\n",
      "File \u001b[1;32mD:\\Users\\doyeob\\anaconda3\\envs\\doyeob\\lib\\site-packages\\tifffile\\tifffile.py:4502\u001b[0m, in \u001b[0;36mTiffFile.asarray\u001b[1;34m(self, key, series, level, squeeze, out, maxworkers, buffersize)\u001b[0m\n\u001b[0;32m   4500\u001b[0m     \u001b[38;5;28;01mif\u001b[39;00m page0 \u001b[38;5;129;01mis\u001b[39;00m \u001b[38;5;28;01mNone\u001b[39;00m:\n\u001b[0;32m   4501\u001b[0m         \u001b[38;5;28;01mraise\u001b[39;00m \u001b[38;5;167;01mValueError\u001b[39;00m(\u001b[38;5;124m'\u001b[39m\u001b[38;5;124mpage is None\u001b[39m\u001b[38;5;124m'\u001b[39m)\n\u001b[1;32m-> 4502\u001b[0m     result \u001b[38;5;241m=\u001b[39m \u001b[43mpage0\u001b[49m\u001b[38;5;241;43m.\u001b[39;49m\u001b[43masarray\u001b[49m\u001b[43m(\u001b[49m\n\u001b[0;32m   4503\u001b[0m \u001b[43m        \u001b[49m\u001b[43mout\u001b[49m\u001b[38;5;241;43m=\u001b[39;49m\u001b[43mout\u001b[49m\u001b[43m,\u001b[49m\u001b[43m \u001b[49m\u001b[43mmaxworkers\u001b[49m\u001b[38;5;241;43m=\u001b[39;49m\u001b[43mmaxworkers\u001b[49m\u001b[43m,\u001b[49m\u001b[43m \u001b[49m\u001b[43mbuffersize\u001b[49m\u001b[38;5;241;43m=\u001b[39;49m\u001b[43mbuffersize\u001b[49m\n\u001b[0;32m   4504\u001b[0m \u001b[43m    \u001b[49m\u001b[43m)\u001b[49m\n\u001b[0;32m   4505\u001b[0m \u001b[38;5;28;01melse\u001b[39;00m:\n\u001b[0;32m   4506\u001b[0m     result \u001b[38;5;241m=\u001b[39m stack_pages(\n\u001b[0;32m   4507\u001b[0m         pages, out\u001b[38;5;241m=\u001b[39mout, maxworkers\u001b[38;5;241m=\u001b[39mmaxworkers, buffersize\u001b[38;5;241m=\u001b[39mbuffersize\n\u001b[0;32m   4508\u001b[0m     )\n",
      "File \u001b[1;32mD:\\Users\\doyeob\\anaconda3\\envs\\doyeob\\lib\\site-packages\\tifffile\\tifffile.py:9397\u001b[0m, in \u001b[0;36mTiffPage.asarray\u001b[1;34m(self, out, squeeze, lock, maxworkers, buffersize)\u001b[0m\n\u001b[0;32m   9387\u001b[0m             out[\n\u001b[0;32m   9388\u001b[0m                 s, d : d \u001b[38;5;241m+\u001b[39m shape[\u001b[38;5;241m0\u001b[39m], h : h \u001b[38;5;241m+\u001b[39m shape[\u001b[38;5;241m1\u001b[39m], w : w \u001b[38;5;241m+\u001b[39m shape[\u001b[38;5;241m2\u001b[39m]\n\u001b[0;32m   9389\u001b[0m             ] \u001b[38;5;241m=\u001b[39m segment[\n\u001b[1;32m   (...)\u001b[0m\n\u001b[0;32m   9392\u001b[0m                 : keyframe\u001b[38;5;241m.\u001b[39mimagewidth \u001b[38;5;241m-\u001b[39m w,\n\u001b[0;32m   9393\u001b[0m             ]\n\u001b[0;32m   9394\u001b[0m         \u001b[38;5;66;03m# except IndexError:\u001b[39;00m\n\u001b[0;32m   9395\u001b[0m         \u001b[38;5;66;03m#     pass  # corrupted file, for example, with too many strips\u001b[39;00m\n\u001b[1;32m-> 9397\u001b[0m     \u001b[38;5;28;01mfor\u001b[39;00m _ \u001b[38;5;129;01min\u001b[39;00m \u001b[38;5;28mself\u001b[39m\u001b[38;5;241m.\u001b[39msegments(\n\u001b[0;32m   9398\u001b[0m         func\u001b[38;5;241m=\u001b[39mfunc,\n\u001b[0;32m   9399\u001b[0m         lock\u001b[38;5;241m=\u001b[39mlock,\n\u001b[0;32m   9400\u001b[0m         maxworkers\u001b[38;5;241m=\u001b[39mmaxworkers,\n\u001b[0;32m   9401\u001b[0m         buffersize\u001b[38;5;241m=\u001b[39mbuffersize,\n\u001b[0;32m   9402\u001b[0m         sort\u001b[38;5;241m=\u001b[39m\u001b[38;5;28;01mTrue\u001b[39;00m,\n\u001b[0;32m   9403\u001b[0m         _fullsize\u001b[38;5;241m=\u001b[39m\u001b[38;5;28;01mFalse\u001b[39;00m,\n\u001b[0;32m   9404\u001b[0m     ):\n\u001b[0;32m   9405\u001b[0m         \u001b[38;5;28;01mpass\u001b[39;00m\n\u001b[0;32m   9407\u001b[0m result\u001b[38;5;241m.\u001b[39mshape \u001b[38;5;241m=\u001b[39m keyframe\u001b[38;5;241m.\u001b[39mshaped\n",
      "File \u001b[1;32mD:\\Users\\doyeob\\anaconda3\\envs\\doyeob\\lib\\site-packages\\tifffile\\tifffile.py:9207\u001b[0m, in \u001b[0;36mTiffPage.segments\u001b[1;34m(self, lock, maxworkers, func, sort, buffersize, _fullsize)\u001b[0m\n\u001b[0;32m   9198\u001b[0m \u001b[38;5;28;01mwith\u001b[39;00m ThreadPoolExecutor(maxworkers) \u001b[38;5;28;01mas\u001b[39;00m executor:\n\u001b[0;32m   9199\u001b[0m     \u001b[38;5;28;01mfor\u001b[39;00m segments \u001b[38;5;129;01min\u001b[39;00m fh\u001b[38;5;241m.\u001b[39mread_segments(\n\u001b[0;32m   9200\u001b[0m         \u001b[38;5;28mself\u001b[39m\u001b[38;5;241m.\u001b[39mdataoffsets,\n\u001b[0;32m   9201\u001b[0m         \u001b[38;5;28mself\u001b[39m\u001b[38;5;241m.\u001b[39mdatabytecounts,\n\u001b[1;32m   (...)\u001b[0m\n\u001b[0;32m   9205\u001b[0m         flat\u001b[38;5;241m=\u001b[39m\u001b[38;5;28;01mFalse\u001b[39;00m,\n\u001b[0;32m   9206\u001b[0m     ):\n\u001b[1;32m-> 9207\u001b[0m         \u001b[38;5;28;01myield from\u001b[39;00m executor\u001b[38;5;241m.\u001b[39mmap(decode, segments)\n",
      "File \u001b[1;32mD:\\Users\\doyeob\\anaconda3\\envs\\doyeob\\lib\\concurrent\\futures\\_base.py:609\u001b[0m, in \u001b[0;36mExecutor.map.<locals>.result_iterator\u001b[1;34m()\u001b[0m\n\u001b[0;32m    606\u001b[0m \u001b[38;5;28;01mwhile\u001b[39;00m fs:\n\u001b[0;32m    607\u001b[0m     \u001b[38;5;66;03m# Careful not to keep a reference to the popped future\u001b[39;00m\n\u001b[0;32m    608\u001b[0m     \u001b[38;5;28;01mif\u001b[39;00m timeout \u001b[38;5;129;01mis\u001b[39;00m \u001b[38;5;28;01mNone\u001b[39;00m:\n\u001b[1;32m--> 609\u001b[0m         \u001b[38;5;28;01myield\u001b[39;00m \u001b[43mfs\u001b[49m\u001b[38;5;241;43m.\u001b[39;49m\u001b[43mpop\u001b[49m\u001b[43m(\u001b[49m\u001b[43m)\u001b[49m\u001b[38;5;241;43m.\u001b[39;49m\u001b[43mresult\u001b[49m\u001b[43m(\u001b[49m\u001b[43m)\u001b[49m\n\u001b[0;32m    610\u001b[0m     \u001b[38;5;28;01melse\u001b[39;00m:\n\u001b[0;32m    611\u001b[0m         \u001b[38;5;28;01myield\u001b[39;00m fs\u001b[38;5;241m.\u001b[39mpop()\u001b[38;5;241m.\u001b[39mresult(end_time \u001b[38;5;241m-\u001b[39m time\u001b[38;5;241m.\u001b[39mmonotonic())\n",
      "File \u001b[1;32mD:\\Users\\doyeob\\anaconda3\\envs\\doyeob\\lib\\concurrent\\futures\\_base.py:439\u001b[0m, in \u001b[0;36mFuture.result\u001b[1;34m(self, timeout)\u001b[0m\n\u001b[0;32m    437\u001b[0m     \u001b[38;5;28;01mraise\u001b[39;00m CancelledError()\n\u001b[0;32m    438\u001b[0m \u001b[38;5;28;01melif\u001b[39;00m \u001b[38;5;28mself\u001b[39m\u001b[38;5;241m.\u001b[39m_state \u001b[38;5;241m==\u001b[39m FINISHED:\n\u001b[1;32m--> 439\u001b[0m     \u001b[38;5;28;01mreturn\u001b[39;00m \u001b[38;5;28;43mself\u001b[39;49m\u001b[38;5;241;43m.\u001b[39;49m\u001b[43m__get_result\u001b[49m\u001b[43m(\u001b[49m\u001b[43m)\u001b[49m\n\u001b[0;32m    441\u001b[0m \u001b[38;5;28mself\u001b[39m\u001b[38;5;241m.\u001b[39m_condition\u001b[38;5;241m.\u001b[39mwait(timeout)\n\u001b[0;32m    443\u001b[0m \u001b[38;5;28;01mif\u001b[39;00m \u001b[38;5;28mself\u001b[39m\u001b[38;5;241m.\u001b[39m_state \u001b[38;5;129;01min\u001b[39;00m [CANCELLED, CANCELLED_AND_NOTIFIED]:\n",
      "File \u001b[1;32mD:\\Users\\doyeob\\anaconda3\\envs\\doyeob\\lib\\concurrent\\futures\\_base.py:391\u001b[0m, in \u001b[0;36mFuture.__get_result\u001b[1;34m(self)\u001b[0m\n\u001b[0;32m    389\u001b[0m \u001b[38;5;28;01mif\u001b[39;00m \u001b[38;5;28mself\u001b[39m\u001b[38;5;241m.\u001b[39m_exception:\n\u001b[0;32m    390\u001b[0m     \u001b[38;5;28;01mtry\u001b[39;00m:\n\u001b[1;32m--> 391\u001b[0m         \u001b[38;5;28;01mraise\u001b[39;00m \u001b[38;5;28mself\u001b[39m\u001b[38;5;241m.\u001b[39m_exception\n\u001b[0;32m    392\u001b[0m     \u001b[38;5;28;01mfinally\u001b[39;00m:\n\u001b[0;32m    393\u001b[0m         \u001b[38;5;66;03m# Break a reference cycle with the exception in self._exception\u001b[39;00m\n\u001b[0;32m    394\u001b[0m         \u001b[38;5;28mself\u001b[39m \u001b[38;5;241m=\u001b[39m \u001b[38;5;28;01mNone\u001b[39;00m\n",
      "File \u001b[1;32mD:\\Users\\doyeob\\anaconda3\\envs\\doyeob\\lib\\concurrent\\futures\\thread.py:58\u001b[0m, in \u001b[0;36m_WorkItem.run\u001b[1;34m(self)\u001b[0m\n\u001b[0;32m     55\u001b[0m     \u001b[38;5;28;01mreturn\u001b[39;00m\n\u001b[0;32m     57\u001b[0m \u001b[38;5;28;01mtry\u001b[39;00m:\n\u001b[1;32m---> 58\u001b[0m     result \u001b[38;5;241m=\u001b[39m \u001b[38;5;28mself\u001b[39m\u001b[38;5;241m.\u001b[39mfn(\u001b[38;5;241m*\u001b[39m\u001b[38;5;28mself\u001b[39m\u001b[38;5;241m.\u001b[39margs, \u001b[38;5;241m*\u001b[39m\u001b[38;5;241m*\u001b[39m\u001b[38;5;28mself\u001b[39m\u001b[38;5;241m.\u001b[39mkwargs)\n\u001b[0;32m     59\u001b[0m \u001b[38;5;28;01mexcept\u001b[39;00m \u001b[38;5;167;01mBaseException\u001b[39;00m \u001b[38;5;28;01mas\u001b[39;00m exc:\n\u001b[0;32m     60\u001b[0m     \u001b[38;5;28mself\u001b[39m\u001b[38;5;241m.\u001b[39mfuture\u001b[38;5;241m.\u001b[39mset_exception(exc)\n",
      "File \u001b[1;32mD:\\Users\\doyeob\\anaconda3\\envs\\doyeob\\lib\\site-packages\\tifffile\\tifffile.py:9180\u001b[0m, in \u001b[0;36mTiffPage.segments.<locals>.decode\u001b[1;34m(args, decodeargs, decode)\u001b[0m\n\u001b[0;32m   9179\u001b[0m \u001b[38;5;28;01mdef\u001b[39;00m \u001b[38;5;21mdecode\u001b[39m(args, decodeargs\u001b[38;5;241m=\u001b[39mdecodeargs, decode\u001b[38;5;241m=\u001b[39mkeyframe\u001b[38;5;241m.\u001b[39mdecode):\n\u001b[1;32m-> 9180\u001b[0m     \u001b[38;5;28;01mreturn\u001b[39;00m func(decode(\u001b[38;5;241m*\u001b[39margs, \u001b[38;5;241m*\u001b[39m\u001b[38;5;241m*\u001b[39mdecodeargs))\n",
      "File \u001b[1;32mD:\\Users\\doyeob\\anaconda3\\envs\\doyeob\\lib\\site-packages\\tifffile\\tifffile.py:8604\u001b[0m, in \u001b[0;36mTiffPage.decode.<locals>.decode_raise_compression\u001b[1;34m(exc, *args, **kwargs)\u001b[0m\n\u001b[0;32m   8603\u001b[0m \u001b[38;5;28;01mdef\u001b[39;00m \u001b[38;5;21mdecode_raise_compression\u001b[39m(\u001b[38;5;241m*\u001b[39margs, exc\u001b[38;5;241m=\u001b[39m\u001b[38;5;28mstr\u001b[39m(exc)[\u001b[38;5;241m1\u001b[39m:\u001b[38;5;241m-\u001b[39m\u001b[38;5;241m1\u001b[39m], \u001b[38;5;241m*\u001b[39m\u001b[38;5;241m*\u001b[39mkwargs):\n\u001b[1;32m-> 8604\u001b[0m     \u001b[38;5;28;01mraise\u001b[39;00m \u001b[38;5;167;01mValueError\u001b[39;00m(\u001b[38;5;124mf\u001b[39m\u001b[38;5;124m'\u001b[39m\u001b[38;5;132;01m{\u001b[39;00mexc\u001b[38;5;132;01m}\u001b[39;00m\u001b[38;5;124m'\u001b[39m)\n",
      "\u001b[1;31mValueError\u001b[0m: <COMPRESSION.LZW: 5> requires the 'imagecodecs' package"
     ]
    }
   ],
   "source": [
    "import os\n",
    "import numpy as np\n",
    "import tifffile as tiff\n",
    "import cv2\n",
    "\n",
    "def fft_and_mask(image, mask):\n",
    "    # 이미지 FFT 변환\n",
    "    f = np.fft.fft2(image)\n",
    "    fshift = np.fft.fftshift(f)\n",
    "    magnitude_spectrum = np.abs(fshift)\n",
    "    \n",
    "    # FFT 결과와 마스크 곱하기\n",
    "    masked_spectrum = magnitude_spectrum * mask\n",
    "    \n",
    "    return masked_spectrum\n",
    "\n",
    "def process_tif_files(input_folder, output_folder, mask_file):\n",
    "    # 마스크 파일 읽기\n",
    "    mask = tiff.imread(mask_file)\n",
    "    \n",
    "    if not os.path.exists(output_folder):\n",
    "        os.makedirs(output_folder)\n",
    "    \n",
    "    # 입력 폴더 내의 모든 .tif 파일에 대해 반복\n",
    "    for filename in os.listdir(input_folder):\n",
    "        if filename.endswith('.tif'):\n",
    "            # 파일 경로 생성\n",
    "            file_path = os.path.join(input_folder, filename)\n",
    "            \n",
    "            # .tif 파일 읽기\n",
    "            image = tiff.imread(file_path)\n",
    "            \n",
    "            # FFT 및 마스크 적용\n",
    "            masked_fft_image = fft_and_mask(image, mask)\n",
    "            \n",
    "            # 결과를 .tif 파일로 저장\n",
    "            output_filename = f\"masked_fft_{filename}\"\n",
    "            output_path = os.path.join(output_folder, output_filename)\n",
    "            tiff.imwrite(output_path, masked_fft_image.astype(np.float32))\n",
    "            \n",
    "            print(f'Processed {filename}, saved masked FFT result to {output_filename}')\n",
    "\n",
    "# 입력 폴더와 출력 폴더 경로 설정\n",
    "input_folder = r'D:\\Users\\doyeob\\Desktop\\3layerBP data\\devided data\\original data'\n",
    "output_folder = r'D:\\Users\\doyeob\\Desktop\\3layerBP data\\devided data\\FFT with new mask'\n",
    "\n",
    "# 마스크 파일 경로 설정\n",
    "mask_file = r\"D:\\Users\\doyeob\\Desktop\\3layerBP data\\devided data\\mask\\G,BP mask.tif\"\n",
    "\n",
    "# .tif 파일 처리\n",
    "process_tif_files(input_folder, output_folder, mask_file)\n",
    "\n",
    "print(\"All files have been processed.\")\n"
   ]
  },
  {
   "cell_type": "code",
   "execution_count": null,
   "id": "0f932518-7ded-4488-8e1e-573b3733e791",
   "metadata": {},
   "outputs": [],
   "source": []
  }
 ],
 "metadata": {
  "kernelspec": {
   "display_name": "Python 3 (ipykernel)",
   "language": "python",
   "name": "python3"
  },
  "language_info": {
   "codemirror_mode": {
    "name": "ipython",
    "version": 3
   },
   "file_extension": ".py",
   "mimetype": "text/x-python",
   "name": "python",
   "nbconvert_exporter": "python",
   "pygments_lexer": "ipython3",
   "version": "3.9.19"
  }
 },
 "nbformat": 4,
 "nbformat_minor": 5
}
