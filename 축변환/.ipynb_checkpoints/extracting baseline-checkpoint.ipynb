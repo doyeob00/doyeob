{
 "cells": [
  {
   "cell_type": "code",
   "execution_count": 2,
   "id": "f85e4964-b534-4853-8896-b3c9f14793b2",
   "metadata": {},
   "outputs": [
    {
     "name": "stdout",
     "output_type": "stream",
     "text": [
      "작업이 완료되었습니다.\n"
     ]
    }
   ],
   "source": [
    "import pandas as pd\n",
    "import numpy as np\n",
    "\n",
    "# 엑셀 파일 읽기\n",
    "input_file = r\"D:\\Users\\doyeob\\Desktop\\3layerBP data\\DP profile\\DP intensity(ring)(big mask).xlsx\"\n",
    "df = pd.read_excel(input_file, sheet_name='Sheet1')\n",
    "\n",
    "# 24행부터 273행까지의 데이터만 추출\n",
    "df_extracted = df.iloc[23:273]\n",
    "\n",
    "# 첫 번째 값과 마지막 값을 사용해 baseline 계산\n",
    "def calculate_baseline(column):\n",
    "    # 24행부터 34행 중 최솟값이 있는 행\n",
    "    start_value = column.iloc[0:11].min()\n",
    "    # 264행부터 274행 중 최솟값이 있는 행\n",
    "    end_value = column.iloc[-11:].min()\n",
    "    baseline = np.linspace(start_value, end_value, len(column))\n",
    "    return baseline\n",
    "\n",
    "# 데이터 프레임 생성\n",
    "df_baseline = pd.DataFrame(index=df_extracted.index, columns=df_extracted.columns)\n",
    "df_corrected = pd.DataFrame(index=df_extracted.index, columns=df_extracted.columns)\n",
    "\n",
    "# 각 열에 대해 baseline 제거\n",
    "for col in df_extracted.columns:\n",
    "    column_data = df_extracted[col]\n",
    "    baseline = calculate_baseline(column_data)\n",
    "    df_baseline[col] = baseline\n",
    "    df_corrected[col] = column_data.values - baseline\n",
    "\n",
    "# 원본 데이터 저장 (Sheet1에 24행부터 273행까지만 저장)\n",
    "with pd.ExcelWriter(r\"D:\\Users\\doyeob\\Desktop\\3layerBP data\\DP profile\\DP intensity(without baseline)(ring).xlsx\") as writer:\n",
    "    df_extracted.to_excel(writer, sheet_name='Sheet1')\n",
    "\n",
    "    # baseline 데이터 저장 (Sheet2)\n",
    "    df_baseline.to_excel(writer, sheet_name='Sheet2')\n",
    "\n",
    "    # baseline 제거한 데이터 저장 (Sheet3)\n",
    "    df_corrected.to_excel(writer, sheet_name='Sheet3')\n",
    "\n",
    "print(\"작업이 완료되었습니다.\")\n"
   ]
  }
 ],
 "metadata": {
  "kernelspec": {
   "display_name": "Python 3 (ipykernel)",
   "language": "python",
   "name": "python3"
  },
  "language_info": {
   "codemirror_mode": {
    "name": "ipython",
    "version": 3
   },
   "file_extension": ".py",
   "mimetype": "text/x-python",
   "name": "python",
   "nbconvert_exporter": "python",
   "pygments_lexer": "ipython3",
   "version": "3.9.19"
  }
 },
 "nbformat": 4,
 "nbformat_minor": 5
}
