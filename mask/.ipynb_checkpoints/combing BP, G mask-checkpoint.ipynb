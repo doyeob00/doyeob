{
 "cells": [
  {
   "cell_type": "code",
   "execution_count": 6,
   "id": "e67fb5d3-ce57-4919-b262-127b8cab1fa6",
   "metadata": {},
   "outputs": [
    {
     "name": "stdout",
     "output_type": "stream",
     "text": [
      "이미지 병합 완료: D:\\Users\\doyeob\\Desktop\\3layerBP data\\devided data\\BP,G mask(for crystalline).tif\n"
     ]
    }
   ],
   "source": [
    "from PIL import Image\n",
    "import numpy as np\n",
    "\n",
    "def merge_tif_files(file1_path, file2_path, output_path):\n",
    "    # 두 TIF 파일 읽기\n",
    "    image1 = Image.open(file1_path)\n",
    "    image2 = Image.open(file2_path)\n",
    "\n",
    "    # 이미지 데이터를 numpy 배열로 변환\n",
    "    data1 = np.array(image1)\n",
    "    data2 = np.array(image2)\n",
    "\n",
    "    # 두 이미지를 병합하여 새로운 이미지를 생성\n",
    "    # 조건: 둘 중 하나라도 특정 pixel의 intensity가 0이 아니면 intensity가 1, 두 파일 모두 특정 pixel의 intensity가 0이면 intensity가 0\n",
    "    merged_data = np.where((data1 == 1) | (data2 == 1), 1, 0)\n",
    "\n",
    "    # 새로운 이미지로 변환\n",
    "    merged_image = Image.fromarray((merged_data * 255).astype(np.uint8), mode='L')\n",
    "\n",
    "    # 결과 이미지를 TIF 파일로 저장\n",
    "    merged_image.save(output_path)\n",
    "\n",
    "    print(f\"이미지 병합 완료: {output_path}\")\n",
    "\n",
    "# 예시 사용법\n",
    "file1_path = r\"D:\\Users\\doyeob\\Desktop\\3layerBP data\\devided data\\BP mask(for crystalline).tif\"\n",
    "file2_path = r\"D:\\Users\\doyeob\\Desktop\\3layerBP data\\devided data\\graphene mask(for crystalline).tif\"\n",
    "output_path = r\"D:\\Users\\doyeob\\Desktop\\3layerBP data\\devided data\\BP,G mask(for crystalline).tif\"\n",
    "merge_tif_files(file1_path, file2_path, output_path)\n"
   ]
  },
  {
   "cell_type": "code",
   "execution_count": null,
   "id": "b397b692-e70d-4bcd-8deb-d8733645a006",
   "metadata": {},
   "outputs": [],
   "source": [
    "# file1_path = r\"D:\\Users\\doyeob\\Desktop\\3layerBP data\\devided data\\BP mask(for crystalline).tif\"\n",
    "# file2_path = r\"D:\\Users\\doyeob\\Desktop\\3layerBP data\\devided data\\graphene mask(for crystalline).tif\"\n",
    "# output_path = r\"D:\\Users\\doyeob\\Desktop\\3layerBP data\\devided data\\BP,G mask(for crystalline).tif\""
   ]
  }
 ],
 "metadata": {
  "kernelspec": {
   "display_name": "Python 3 (ipykernel)",
   "language": "python",
   "name": "python3"
  },
  "language_info": {
   "codemirror_mode": {
    "name": "ipython",
    "version": 3
   },
   "file_extension": ".py",
   "mimetype": "text/x-python",
   "name": "python",
   "nbconvert_exporter": "python",
   "pygments_lexer": "ipython3",
   "version": "3.9.19"
  }
 },
 "nbformat": 4,
 "nbformat_minor": 5
}
