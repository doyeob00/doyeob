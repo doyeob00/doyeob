{
 "cells": [
  {
   "cell_type": "code",
   "execution_count": 2,
   "id": "54365f26-2860-4d47-a683-d4f292fbf6b7",
   "metadata": {},
   "outputs": [
    {
     "name": "stdout",
     "output_type": "stream",
     "text": [
      "Intensity inversion complete and saved to D:\\Users\\doyeob\\Desktop\\3layerBP data\\devided data\\BP mask(for noncrystalline).tif\n"
     ]
    }
   ],
   "source": [
    "from PIL import Image\n",
    "import numpy as np\n",
    "\n",
    "# TIF 파일 열기\n",
    "input_path = r\"D:\\Users\\doyeob\\Desktop\\3layerBP data\\devided data\\BP mask(for crystalline).tif\"\n",
    "output_path = r\"D:\\Users\\doyeob\\Desktop\\3layerBP data\\devided data\\BP mask(for noncrystalline).tif\"\n",
    "\n",
    "# 이미지 열기\n",
    "image = Image.open(input_path)\n",
    "image_array = np.array(image)\n",
    "\n",
    "# intensity 값 반전 (0은 1로, 1은 0으로)\n",
    "inverted_image_array = 1 - image_array\n",
    "\n",
    "# 새로운 이미지로 저장\n",
    "inverted_image = Image.fromarray(inverted_image_array)\n",
    "inverted_image.save(output_path)\n",
    "\n",
    "print(\"Intensity inversion complete and saved to\", output_path)\n"
   ]
  },
  {
   "cell_type": "code",
   "execution_count": null,
   "id": "15ffebe6-0ab2-40f6-8e3a-ab5488cb732f",
   "metadata": {},
   "outputs": [],
   "source": []
  }
 ],
 "metadata": {
  "kernelspec": {
   "display_name": "Python 3 (ipykernel)",
   "language": "python",
   "name": "python3"
  },
  "language_info": {
   "codemirror_mode": {
    "name": "ipython",
    "version": 3
   },
   "file_extension": ".py",
   "mimetype": "text/x-python",
   "name": "python",
   "nbconvert_exporter": "python",
   "pygments_lexer": "ipython3",
   "version": "3.9.19"
  }
 },
 "nbformat": 4,
 "nbformat_minor": 5
}
