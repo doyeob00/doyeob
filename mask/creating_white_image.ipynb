{
 "cells": [
  {
   "cell_type": "code",
   "execution_count": 2,
   "id": "f60f2b23-a063-47de-8a54-87e2ee107ddb",
   "metadata": {},
   "outputs": [
    {
     "name": "stdout",
     "output_type": "stream",
     "text": [
      "주인님 다했습니다.\n"
     ]
    }
   ],
   "source": [
    "import numpy as np\n",
    "from PIL import Image\n",
    "\n",
    "# 1024x1024 크기의 배열 생성, 모든 값은 1로 설정\n",
    "image_data = np.ones((1024, 1024), dtype=np.uint8)\n",
    "\n",
    "# 배열을 이미지로 변환\n",
    "image = Image.fromarray(image_data)\n",
    "\n",
    "# 이미지 저장\n",
    "image.save('output.tif')\n",
    "\n",
    "print('주인님 다했습니다.')"
   ]
  },
  {
   "cell_type": "code",
   "execution_count": null,
   "id": "29de2ce1-b776-4703-9f00-d6e0f258ea2c",
   "metadata": {},
   "outputs": [],
   "source": []
  },
  {
   "cell_type": "code",
   "execution_count": null,
   "id": "c2286a89-3c87-443d-89ea-1bf43fdeada2",
   "metadata": {},
   "outputs": [],
   "source": []
  },
  {
   "cell_type": "code",
   "execution_count": null,
   "id": "a926610b-7bdd-4ea6-883d-c5c0b2346b60",
   "metadata": {},
   "outputs": [],
   "source": []
  }
 ],
 "metadata": {
  "kernelspec": {
   "display_name": "Python 3 (ipykernel)",
   "language": "python",
   "name": "python3"
  },
  "language_info": {
   "codemirror_mode": {
    "name": "ipython",
    "version": 3
   },
   "file_extension": ".py",
   "mimetype": "text/x-python",
   "name": "python",
   "nbconvert_exporter": "python",
   "pygments_lexer": "ipython3",
   "version": "3.9.19"
  }
 },
 "nbformat": 4,
 "nbformat_minor": 5
}
