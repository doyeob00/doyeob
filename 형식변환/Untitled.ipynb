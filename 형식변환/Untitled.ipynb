{
 "cells": [
  {
   "cell_type": "code",
   "execution_count": 4,
   "id": "c5d25641-d5b1-400d-b4ae-235209e3b21c",
   "metadata": {},
   "outputs": [
    {
     "name": "stdout",
     "output_type": "stream",
     "text": [
      "TIFF 파일 처리 완료\n"
     ]
    }
   ],
   "source": [
    "import os\n",
    "import numpy as np\n",
    "import tifffile as tiff\n",
    "\n",
    "# 데이터 파일 경로\n",
    "folder_path = r\"C:\\Users\\doyeob\\Desktop\\3layerBP data\\DP profile\\101\\angular\"\n",
    "output_folder = r\"C:\\Users\\doyeob\\Desktop\\3layerBP data\\DP profile\\101\\angular\\dm4\"\n",
    "\n",
    "# 출력 폴더가 없으면 생성\n",
    "if not os.path.exists(output_folder):\n",
    "    os.makedirs(output_folder)\n",
    "\n",
    "# 폴더 내의 모든 TIFF 파일에 대해 반복\n",
    "for filename in os.listdir(folder_path):\n",
    "    if filename.endswith(\".tif\"):\n",
    "        file_path = os.path.join(folder_path, filename)\n",
    "        \n",
    "        # TIFF 파일 읽기\n",
    "        img_data1 = tiff.imread(file_path)\n",
    "        \n",
    "        # 데이터 변환\n",
    "        img_data2 = img_data1.transpose(1, 0).copy()\n",
    "        img_data2[:20, :] = 0\n",
    "\n",
    "        # 결과 파일 경로\n",
    "        output_file_path = os.path.join(output_folder, filename)\n",
    "        \n",
    "        # TIFF 파일로 저장\n",
    "        tiff.imwrite(output_file_path, img_data2.astype(img_data1.dtype))\n",
    "\n",
    "print('TIFF 파일 처리 완료')\n"
   ]
  }
 ],
 "metadata": {
  "kernelspec": {
   "display_name": "Python 3 (ipykernel)",
   "language": "python",
   "name": "python3"
  },
  "language_info": {
   "codemirror_mode": {
    "name": "ipython",
    "version": 3
   },
   "file_extension": ".py",
   "mimetype": "text/x-python",
   "name": "python",
   "nbconvert_exporter": "python",
   "pygments_lexer": "ipython3",
   "version": "3.9.19"
  }
 },
 "nbformat": 4,
 "nbformat_minor": 5
}
