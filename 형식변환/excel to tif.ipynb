{
 "cells": [
  {
   "cell_type": "code",
   "execution_count": 11,
   "id": "b741e5f0-b417-4bcc-b7fb-7be9d9b4c22e",
   "metadata": {},
   "outputs": [
    {
     "name": "stdout",
     "output_type": "stream",
     "text": [
      "TIFF 파일 생성 완료\n"
     ]
    }
   ],
   "source": [
    "import pandas as pd\n",
    "import numpy as np\n",
    "import tifffile as tiff\n",
    "import os\n",
    "\n",
    "# 엑셀 파일 경로\n",
    "file_path = r\"C:\\Users\\doyeob\\Desktop\\3layerBP data\\devided data\\polar\\200\\200-2 information.xlsx\"\n",
    "\n",
    "# 시트 이름 목록과 각 시트에 대한 출력 폴더 경로\n",
    "sheet_folders = {\n",
    "    'Angular': r\"C:\\Users\\doyeob\\Desktop\\3layerBP data\\devided data\\polar\\200\\2\\angular\",\n",
    "    'Radial': r\"C:\\Users\\doyeob\\Desktop\\3layerBP data\\devided data\\polar\\200\\2\\radial\"\n",
    "}\n",
    "\n",
    "# 각 시트에 대해 TIFF 파일 생성 및 저장\n",
    "for sheet_name, output_folder in sheet_folders.items():\n",
    "    # 출력 폴더가 없으면 생성\n",
    "    if not os.path.exists(output_folder):\n",
    "        os.makedirs(output_folder)\n",
    "        \n",
    "    # 엑셀 파일 로드\n",
    "    df = pd.read_excel(file_path, sheet_name=sheet_name, header=None)\n",
    "    \n",
    "    # 각 열을 순회하며 TIFF 파일 생성 및 저장\n",
    "    for col in range(df.shape[1]):\n",
    "        # 컬럼 데이터 추출\n",
    "        column_data = df.iloc[1:, col].values  # 첫 번째 행(헤더)은 제외\n",
    "        # 1024x10 행렬 생성\n",
    "        image_data = np.tile(column_data[:, np.newaxis], (1, 10))\n",
    "        # 파일명 생성\n",
    "        filename = os.path.join(output_folder, f'average_polar_of_FFT_{df.iloc[0, col]}.tif')\n",
    "        # TIFF 파일로 저장\n",
    "        tiff.imwrite(filename, image_data.astype(np.float32))\n",
    "\n",
    "print('TIFF 파일 생성 완료')\n"
   ]
  },
  {
   "cell_type": "code",
   "execution_count": null,
   "id": "86d8d8f1-127b-4905-8efe-9518c8dffc6f",
   "metadata": {},
   "outputs": [],
   "source": []
  }
 ],
 "metadata": {
  "kernelspec": {
   "display_name": "Python 3 (ipykernel)",
   "language": "python",
   "name": "python3"
  },
  "language_info": {
   "codemirror_mode": {
    "name": "ipython",
    "version": 3
   },
   "file_extension": ".py",
   "mimetype": "text/x-python",
   "name": "python",
   "nbconvert_exporter": "python",
   "pygments_lexer": "ipython3",
   "version": "3.9.19"
  }
 },
 "nbformat": 4,
 "nbformat_minor": 5
}
