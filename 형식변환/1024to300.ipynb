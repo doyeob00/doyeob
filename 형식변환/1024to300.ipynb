{
 "cells": [
  {
   "cell_type": "code",
   "execution_count": 1,
   "id": "dd5faa98-36b1-4b38-a41f-13e2f6b726c8",
   "metadata": {},
   "outputs": [
    {
     "name": "stdout",
     "output_type": "stream",
     "text": [
      "모든 이미지가 성공적으로 저장되었습니다.\n"
     ]
    }
   ],
   "source": [
    "import os\n",
    "from PIL import Image\n",
    "\n",
    "# 입력 폴더와 출력 폴더 경로 설정\n",
    "input_folder = r\"C:\\Users\\doyeob\\Desktop\\3layerBP data\\devided data\\polar\\polar data\"\n",
    "output_folder = r\"C:\\Users\\doyeob\\Desktop\\3layerBP data\\devided data\\polar\\polar data(crop)\"\n",
    "\n",
    "# 출력 폴더가 존재하지 않으면 생성\n",
    "if not os.path.exists(output_folder):\n",
    "    os.makedirs(output_folder)\n",
    "\n",
    "# 입력 폴더 내 모든 파일에 대해 작업 수행\n",
    "for filename in os.listdir(input_folder):\n",
    "    if filename.endswith('.tif'):\n",
    "        input_path = os.path.join(input_folder, filename)\n",
    "        output_path = os.path.join(output_folder, filename)\n",
    "\n",
    "        # 이미지 열기\n",
    "        image = Image.open(input_path)\n",
    "\n",
    "        # 자를 영역 설정 (왼쪽, 위쪽, 오른쪽, 아래쪽)\n",
    "        crop_area = (0, 0, 300, 1024)\n",
    "\n",
    "        # 이미지 자르기\n",
    "        cropped_image = image.crop(crop_area)\n",
    "\n",
    "        # 자른 이미지 저장\n",
    "        cropped_image.save(output_path)\n",
    "\n",
    "print(\"모든 이미지가 성공적으로 저장되었습니다.\")\n"
   ]
  },
  {
   "cell_type": "code",
   "execution_count": null,
   "id": "70db3f37-0115-43cb-9986-9627d88a01ea",
   "metadata": {},
   "outputs": [],
   "source": []
  }
 ],
 "metadata": {
  "kernelspec": {
   "display_name": "Python 3 (ipykernel)",
   "language": "python",
   "name": "python3"
  },
  "language_info": {
   "codemirror_mode": {
    "name": "ipython",
    "version": 3
   },
   "file_extension": ".py",
   "mimetype": "text/x-python",
   "name": "python",
   "nbconvert_exporter": "python",
   "pygments_lexer": "ipython3",
   "version": "3.9.19"
  }
 },
 "nbformat": 4,
 "nbformat_minor": 5
}
