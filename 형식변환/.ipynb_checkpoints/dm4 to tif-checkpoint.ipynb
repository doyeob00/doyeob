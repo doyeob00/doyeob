{
 "cells": [
  {
   "cell_type": "code",
   "execution_count": null,
   "id": "83366937-6276-4f6d-89e9-f11064e80ac6",
   "metadata": {},
   "outputs": [],
   "source": [
    "import os\n",
    "import numpy as np\n",
    "from ncempy.io import dm\n",
    "import tifffile as tiff\n",
    "\n",
    "# 입력 폴더와 출력 폴더 경로\n",
    "input_folder = r\"C:\\Users\\doyeob\\Desktop\\3layerBP data\\fitting using gatan\\200\\2\\dm4\"\n",
    "output_folder = r\"C:\\Users\\doyeob\\Desktop\\3layerBP data\\fitting using gatan\\200\\2\"\n",
    "# 출력 폴더가 없으면 생성\n",
    "if not os.path.exists(output_folder):\n",
    "    os.makedirs(output_folder)\n",
    "\n",
    "# 입력 폴더 내 모든 DM4 파일에 대해 작업 수행\n",
    "for filename in os.listdir(input_folder):\n",
    "    if filename.endswith('.dm4'):\n",
    "        input_dm4_file = os.path.join(input_folder, filename)\n",
    "        output_tiff_file = os.path.join(output_folder, f'{os.path.splitext(filename)[0]}.tif')\n",
    "\n",
    "        # DM4 파일 읽기\n",
    "        dm4_data = dm.fileDM(input_dm4_file)\n",
    "\n",
    "        # DM4 데이터 내용 확인\n",
    "        print(f\"Processing {filename}...\")\n",
    "\n",
    "        # 모든 메타데이터와 키를 출력하여 구조 파악\n",
    "        dm4_metadata = dm4_data.allTags\n",
    "        for key, value in dm4_metadata.items():\n",
    "            print(f\"{key}: {value}\")\n",
    "\n",
    "        # 데이터셋 이름을 사용하여 데이터 추출\n",
    "        try:\n",
    "            dataset = dm4_data.getDataset(0)  # 첫 번째 데이터셋 접근\n",
    "            image_data = dataset['data']      # 데이터 추출\n",
    "\n",
    "            # TIFF 파일로 저장 (그레이 스케일)\n",
    "            tiff.imwrite(output_tiff_file, image_data.astype(np.float32), photometric='minisblack')\n",
    "            print(f\"Saved {output_tiff_file}\")\n",
    "\n",
    "        except Exception as e:\n",
    "            print(f\"Failed to process {filename}: {e}\")\n",
    "\n",
    "print(\"모든 DM4 파일이 TIFF 파일로 성공적으로 변환되었습니다.\")\n"
   ]
  }
 ],
 "metadata": {
  "kernelspec": {
   "display_name": "Python 3 (ipykernel)",
   "language": "python",
   "name": "python3"
  },
  "language_info": {
   "codemirror_mode": {
    "name": "ipython",
    "version": 3
   },
   "file_extension": ".py",
   "mimetype": "text/x-python",
   "name": "python",
   "nbconvert_exporter": "python",
   "pygments_lexer": "ipython3",
   "version": "3.9.19"
  }
 },
 "nbformat": 4,
 "nbformat_minor": 5
}
