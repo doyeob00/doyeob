{
 "cells": [
  {
   "cell_type": "code",
   "execution_count": 3,
   "id": "c55113ae-735c-45bd-9dea-0275341d37b1",
   "metadata": {},
   "outputs": [
    {
     "name": "stdout",
     "output_type": "stream",
     "text": [
      "작업이 완료되었습니다.\n"
     ]
    }
   ],
   "source": [
    "import pandas as pd\n",
    "import numpy as np\n",
    "import tifffile as tiff\n",
    "import os\n",
    "\n",
    "# 엑셀 파일 경로와 출력 폴더 경로\n",
    "file_path = r\"D:\\Users\\doyeob\\Desktop\\3layerBP data\\DP profile\\without baseline\\DP intensity(without baseline)(ring).xlsx\"\n",
    "output_folder = r\"D:\\Users\\doyeob\\Desktop\\3layerBP data\\devided data\\polar\\ring polar data(without baseline)\"\n",
    "\n",
    "# 출력 폴더가 없으면 생성\n",
    "if not os.path.exists(output_folder):\n",
    "    os.makedirs(output_folder)\n",
    "\n",
    "# 엑셀 파일 로드\n",
    "df = pd.read_excel(file_path, sheet_name='Sheet3', header=None)\n",
    "\n",
    "# 각 열을 순회하며 TIFF 파일 생성 및 저장\n",
    "for col in range(df.shape[1]):\n",
    "    # 컬럼 데이터 추출 (첫 번째 행(헤더)은 제외)\n",
    "    column_data = df.iloc[1:, col].values\n",
    "    # 1024x10 행렬 생성\n",
    "    image_data = np.zeros((1024, 10), dtype=np.float32)\n",
    "    # 23번째 픽셀부터 272번째 픽셀에 데이터 삽입\n",
    "    image_data[23:273, :] = np.tile(column_data[:, np.newaxis], (1, 10))\n",
    "    # 파일명 생성\n",
    "    filename = os.path.join(output_folder, f'average_polar_of_FFT_{df.iloc[0, col]}.tif')\n",
    "    # TIFF 파일로 저장\n",
    "    tiff.imwrite(filename, image_data)\n",
    "\n",
    "print(\"작업이 완료되었습니다.\")\n"
   ]
  }
 ],
 "metadata": {
  "kernelspec": {
   "display_name": "Python 3 (ipykernel)",
   "language": "python",
   "name": "python3"
  },
  "language_info": {
   "codemirror_mode": {
    "name": "ipython",
    "version": 3
   },
   "file_extension": ".py",
   "mimetype": "text/x-python",
   "name": "python",
   "nbconvert_exporter": "python",
   "pygments_lexer": "ipython3",
   "version": "3.9.19"
  }
 },
 "nbformat": 4,
 "nbformat_minor": 5
}
